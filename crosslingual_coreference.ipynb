{
 "cells": [
  {
   "cell_type": "code",
   "execution_count": 1,
   "metadata": {},
   "outputs": [
    {
     "name": "stdout",
     "output_type": "stream",
     "text": [
      "Collecting crosslingual-coreference\n",
      "  Downloading crosslingual_coreference-0.2.1-py3-none-any.whl (11 kB)\n",
      "Collecting allennlp<3.0,>=2.8\n",
      "  Downloading allennlp-2.9.3-py3-none-any.whl (719 kB)\n",
      "Collecting torch<1.11.0,>=1.10.0\n",
      "  Downloading torch-1.10.2-cp38-cp38-win_amd64.whl (226.6 MB)\n",
      "Requirement already satisfied: spacy<4.0,>=3.1.0 in c:\\users\\dgg32\\.conda\\envs\\pytorch\\lib\\site-packages (from crosslingual-coreference) (3.2.4)\n",
      "Collecting torchaudio<0.11\n",
      "  Downloading torchaudio-0.10.2-cp38-cp38-win_amd64.whl (341 kB)\n",
      "Collecting torchvision<0.12.0\n",
      "  Downloading torchvision-0.11.3-cp38-cp38-win_amd64.whl (947 kB)\n",
      "Collecting allennlp-models<3.0,>=2.8\n",
      "  Downloading allennlp_models-2.9.3-py3-none-any.whl (463 kB)\n",
      "Requirement already satisfied: click<8.1.0 in c:\\users\\dgg32\\.conda\\envs\\pytorch\\lib\\site-packages (from crosslingual-coreference) (8.0.4)\n",
      "Collecting scikit-learn\n",
      "  Downloading scikit_learn-1.0.2-cp38-cp38-win_amd64.whl (7.2 MB)\n",
      "Collecting pytest\n",
      "  Downloading pytest-7.1.2-py3-none-any.whl (297 kB)\n",
      "Collecting wandb<0.13.0,>=0.10.0\n",
      "  Downloading wandb-0.12.15-py2.py3-none-any.whl (1.8 MB)\n",
      "Collecting base58\n",
      "  Downloading base58-2.1.1-py3-none-any.whl (5.6 kB)\n",
      "Collecting more-itertools\n",
      "  Downloading more_itertools-8.12.0-py3-none-any.whl (54 kB)\n",
      "Requirement already satisfied: requests>=2.18 in c:\\users\\dgg32\\.conda\\envs\\pytorch\\lib\\site-packages (from allennlp<3.0,>=2.8->crosslingual-coreference) (2.27.1)\n",
      "Collecting tensorboardX>=1.2\n",
      "  Downloading tensorboardX-2.5-py2.py3-none-any.whl (125 kB)\n",
      "Collecting sentencepiece\n",
      "  Downloading sentencepiece-0.1.96-cp38-cp38-win_amd64.whl (1.1 MB)\n",
      "Collecting termcolor==1.1.0\n",
      "  Downloading termcolor-1.1.0.tar.gz (3.9 kB)\n",
      "Collecting nltk\n",
      "  Downloading nltk-3.7-py3-none-any.whl (1.5 MB)\n",
      "Requirement already satisfied: huggingface-hub>=0.0.16 in c:\\users\\dgg32\\.conda\\envs\\pytorch\\lib\\site-packages (from allennlp<3.0,>=2.8->crosslingual-coreference) (0.2.1)\n",
      "Requirement already satisfied: numpy in c:\\users\\dgg32\\.conda\\envs\\pytorch\\lib\\site-packages (from allennlp<3.0,>=2.8->crosslingual-coreference) (1.21.5)\n",
      "Collecting scipy\n",
      "  Downloading scipy-1.8.0-cp38-cp38-win_amd64.whl (36.9 MB)\n",
      "Collecting dill\n",
      "  Downloading dill-0.3.4-py2.py3-none-any.whl (86 kB)\n",
      "Requirement already satisfied: transformers<4.19,>=4.1 in c:\\users\\dgg32\\.conda\\envs\\pytorch\\lib\\site-packages (from allennlp<3.0,>=2.8->crosslingual-coreference) (4.11.3)\n",
      "Collecting lmdb\n",
      "  Downloading lmdb-1.3.0-cp38-cp38-win_amd64.whl (106 kB)\n",
      "Collecting cached-path<1.2.0,>=1.0.2\n",
      "  Downloading cached_path-1.1.2-py3-none-any.whl (26 kB)\n",
      "Requirement already satisfied: tqdm>=4.62 in c:\\users\\dgg32\\.conda\\envs\\pytorch\\lib\\site-packages (from allennlp<3.0,>=2.8->crosslingual-coreference) (4.63.0)\n",
      "Requirement already satisfied: filelock<3.7,>=3.3 in c:\\users\\dgg32\\.conda\\envs\\pytorch\\lib\\site-packages (from allennlp<3.0,>=2.8->crosslingual-coreference) (3.6.0)\n",
      "Collecting h5py\n",
      "  Downloading h5py-3.6.0-cp38-cp38-win_amd64.whl (2.8 MB)\n",
      "Collecting fairscale==0.4.6\n",
      "  Downloading fairscale-0.4.6.tar.gz (248 kB)\n",
      "  Installing build dependencies: started\n",
      "  Installing build dependencies: finished with status 'done'\n",
      "  Getting requirements to build wheel: started\n",
      "  Getting requirements to build wheel: finished with status 'done'\n",
      "  Installing backend dependencies: started\n",
      "  Installing backend dependencies: finished with status 'done'\n",
      "    Preparing wheel metadata: started\n",
      "    Preparing wheel metadata: finished with status 'done'\n",
      "Requirement already satisfied: typer>=0.4.1 in c:\\users\\dgg32\\.conda\\envs\\pytorch\\lib\\site-packages (from allennlp<3.0,>=2.8->crosslingual-coreference) (0.4.1)\n",
      "Collecting word2number>=1.1\n",
      "  Downloading word2number-1.1.zip (9.7 kB)\n",
      "Collecting py-rouge==1.1\n",
      "  Downloading py_rouge-1.1-py3-none-any.whl (56 kB)\n",
      "Collecting conllu==4.4.1\n",
      "  Downloading conllu-4.4.1-py2.py3-none-any.whl (15 kB)\n",
      "Collecting datasets\n",
      "  Downloading datasets-2.1.0-py3-none-any.whl (325 kB)\n",
      "Collecting ftfy\n",
      "  Downloading ftfy-6.1.1-py3-none-any.whl (53 kB)\n",
      "Collecting google-cloud-storage<3.0,>=1.0\n",
      "  Downloading google_cloud_storage-2.3.0-py2.py3-none-any.whl (107 kB)\n",
      "Collecting boto3<2.0,>=1.0\n",
      "  Downloading boto3-1.21.46-py3-none-any.whl (132 kB)\n",
      "Collecting jmespath<2.0.0,>=0.7.1\n",
      "  Downloading jmespath-1.0.0-py3-none-any.whl (23 kB)\n",
      "Collecting s3transfer<0.6.0,>=0.5.0\n",
      "  Downloading s3transfer-0.5.2-py3-none-any.whl (79 kB)\n",
      "Collecting botocore<1.25.0,>=1.24.46\n",
      "  Downloading botocore-1.24.46-py3-none-any.whl (8.7 MB)\n",
      "Requirement already satisfied: python-dateutil<3.0.0,>=2.1 in c:\\users\\dgg32\\.conda\\envs\\pytorch\\lib\\site-packages (from botocore<1.25.0,>=1.24.46->boto3<2.0,>=1.0->cached-path<1.2.0,>=1.0.2->allennlp<3.0,>=2.8->crosslingual-coreference) (2.8.2)\n",
      "Requirement already satisfied: urllib3<1.27,>=1.25.4 in c:\\users\\dgg32\\.conda\\envs\\pytorch\\lib\\site-packages (from botocore<1.25.0,>=1.24.46->boto3<2.0,>=1.0->cached-path<1.2.0,>=1.0.2->allennlp<3.0,>=2.8->crosslingual-coreference) (1.26.9)\n",
      "Requirement already satisfied: colorama in c:\\users\\dgg32\\.conda\\envs\\pytorch\\lib\\site-packages (from click<8.1.0->crosslingual-coreference) (0.4.4)\n",
      "Collecting google-resumable-media>=2.3.2\n",
      "  Downloading google_resumable_media-2.3.2-py2.py3-none-any.whl (76 kB)\n",
      "Collecting google-auth<3.0dev,>=1.25.0\n",
      "  Downloading google_auth-2.6.6-py2.py3-none-any.whl (156 kB)\n",
      "Requirement already satisfied: protobuf in c:\\users\\dgg32\\.conda\\envs\\pytorch\\lib\\site-packages (from google-cloud-storage<3.0,>=1.0->cached-path<1.2.0,>=1.0.2->allennlp<3.0,>=2.8->crosslingual-coreference) (3.19.1)\n",
      "Collecting google-cloud-core<3.0dev,>=2.3.0\n",
      "  Downloading google_cloud_core-2.3.0-py2.py3-none-any.whl (29 kB)\n",
      "Collecting google-api-core!=2.0.*,!=2.1.*,!=2.2.*,!=2.3.0,<3.0.0dev,>=1.31.5\n",
      "  Downloading google_api_core-2.7.2-py3-none-any.whl (114 kB)\n",
      "Collecting googleapis-common-protos<2.0dev,>=1.52.0\n",
      "  Downloading googleapis_common_protos-1.56.0-py2.py3-none-any.whl (241 kB)\n",
      "Collecting pyasn1-modules>=0.2.1\n",
      "  Downloading pyasn1_modules-0.2.8-py2.py3-none-any.whl (155 kB)\n",
      "Requirement already satisfied: six>=1.9.0 in c:\\users\\dgg32\\.conda\\envs\\pytorch\\lib\\site-packages (from google-auth<3.0dev,>=1.25.0->google-cloud-storage<3.0,>=1.0->cached-path<1.2.0,>=1.0.2->allennlp<3.0,>=2.8->crosslingual-coreference) (1.16.0)\n",
      "Collecting rsa<5,>=3.1.4\n",
      "  Downloading rsa-4.8-py3-none-any.whl (39 kB)\n",
      "Collecting cachetools<6.0,>=2.0.0\n",
      "  Downloading cachetools-5.0.0-py3-none-any.whl (9.1 kB)\n",
      "Collecting google-crc32c<2.0dev,>=1.0\n",
      "  Downloading google_crc32c-1.3.0-cp38-cp38-win_amd64.whl (27 kB)\n",
      "Requirement already satisfied: pyyaml in c:\\users\\dgg32\\.conda\\envs\\pytorch\\lib\\site-packages (from huggingface-hub>=0.0.16->allennlp<3.0,>=2.8->crosslingual-coreference) (6.0)\n",
      "Requirement already satisfied: packaging>=20.9 in c:\\users\\dgg32\\.conda\\envs\\pytorch\\lib\\site-packages (from huggingface-hub>=0.0.16->allennlp<3.0,>=2.8->crosslingual-coreference) (21.3)\n",
      "Requirement already satisfied: typing-extensions>=3.7.4.3 in c:\\users\\dgg32\\.conda\\envs\\pytorch\\lib\\site-packages (from huggingface-hub>=0.0.16->allennlp<3.0,>=2.8->crosslingual-coreference) (4.1.1)\n",
      "Requirement already satisfied: regex>=2021.8.3 in c:\\users\\dgg32\\.conda\\envs\\pytorch\\lib\\site-packages (from nltk->allennlp<3.0,>=2.8->crosslingual-coreference) (2022.3.15)\n",
      "Requirement already satisfied: joblib in c:\\users\\dgg32\\.conda\\envs\\pytorch\\lib\\site-packages (from nltk->allennlp<3.0,>=2.8->crosslingual-coreference) (1.1.0)\n",
      "Requirement already satisfied: pyparsing!=3.0.5,>=2.0.2 in c:\\users\\dgg32\\.conda\\envs\\pytorch\\lib\\site-packages (from packaging>=20.9->huggingface-hub>=0.0.16->allennlp<3.0,>=2.8->crosslingual-coreference) (3.0.4)\n",
      "Collecting pyasn1<0.5.0,>=0.4.6\n",
      "  Downloading pyasn1-0.4.8-py2.py3-none-any.whl (77 kB)\n",
      "Requirement already satisfied: idna<4,>=2.5 in c:\\users\\dgg32\\.conda\\envs\\pytorch\\lib\\site-packages (from requests>=2.18->allennlp<3.0,>=2.8->crosslingual-coreference) (3.3)\n",
      "Requirement already satisfied: charset-normalizer~=2.0.0 in c:\\users\\dgg32\\.conda\\envs\\pytorch\\lib\\site-packages (from requests>=2.18->allennlp<3.0,>=2.8->crosslingual-coreference) (2.0.4)\n",
      "Requirement already satisfied: certifi>=2017.4.17 in c:\\users\\dgg32\\.conda\\envs\\pytorch\\lib\\site-packages (from requests>=2.18->allennlp<3.0,>=2.8->crosslingual-coreference) (2021.10.8)\n",
      "Requirement already satisfied: wasabi<1.1.0,>=0.8.1 in c:\\users\\dgg32\\.conda\\envs\\pytorch\\lib\\site-packages (from spacy<4.0,>=3.1.0->crosslingual-coreference) (0.9.1)\n",
      "Requirement already satisfied: preshed<3.1.0,>=3.0.2 in c:\\users\\dgg32\\.conda\\envs\\pytorch\\lib\\site-packages (from spacy<4.0,>=3.1.0->crosslingual-coreference) (3.0.6)\n",
      "Requirement already satisfied: catalogue<2.1.0,>=2.0.6 in c:\\users\\dgg32\\.conda\\envs\\pytorch\\lib\\site-packages (from spacy<4.0,>=3.1.0->crosslingual-coreference) (2.0.6)\n",
      "Requirement already satisfied: srsly<3.0.0,>=2.4.1 in c:\\users\\dgg32\\.conda\\envs\\pytorch\\lib\\site-packages (from spacy<4.0,>=3.1.0->crosslingual-coreference) (2.4.3)\n",
      "Requirement already satisfied: murmurhash<1.1.0,>=0.28.0 in c:\\users\\dgg32\\.conda\\envs\\pytorch\\lib\\site-packages (from spacy<4.0,>=3.1.0->crosslingual-coreference) (1.0.6)\n",
      "Requirement already satisfied: thinc<8.1.0,>=8.0.12 in c:\\users\\dgg32\\.conda\\envs\\pytorch\\lib\\site-packages (from spacy<4.0,>=3.1.0->crosslingual-coreference) (8.0.15)\n",
      "Requirement already satisfied: langcodes<4.0.0,>=3.2.0 in c:\\users\\dgg32\\.conda\\envs\\pytorch\\lib\\site-packages (from spacy<4.0,>=3.1.0->crosslingual-coreference) (3.3.0)\n",
      "Requirement already satisfied: pathy>=0.3.5 in c:\\users\\dgg32\\.conda\\envs\\pytorch\\lib\\site-packages (from spacy<4.0,>=3.1.0->crosslingual-coreference) (0.6.1)\n",
      "Requirement already satisfied: setuptools in c:\\users\\dgg32\\.conda\\envs\\pytorch\\lib\\site-packages (from spacy<4.0,>=3.1.0->crosslingual-coreference) (61.2.0)\n",
      "Requirement already satisfied: pydantic!=1.8,!=1.8.1,<1.9.0,>=1.7.4 in c:\\users\\dgg32\\.conda\\envs\\pytorch\\lib\\site-packages (from spacy<4.0,>=3.1.0->crosslingual-coreference) (1.8.2)\n",
      "Requirement already satisfied: cymem<2.1.0,>=2.0.2 in c:\\users\\dgg32\\.conda\\envs\\pytorch\\lib\\site-packages (from spacy<4.0,>=3.1.0->crosslingual-coreference) (2.0.6)\n",
      "Requirement already satisfied: spacy-legacy<3.1.0,>=3.0.8 in c:\\users\\dgg32\\.conda\\envs\\pytorch\\lib\\site-packages (from spacy<4.0,>=3.1.0->crosslingual-coreference) (3.0.9)\n",
      "Requirement already satisfied: jinja2 in c:\\users\\dgg32\\.conda\\envs\\pytorch\\lib\\site-packages (from spacy<4.0,>=3.1.0->crosslingual-coreference) (3.1.1)\n",
      "Requirement already satisfied: spacy-loggers<2.0.0,>=1.0.0 in c:\\users\\dgg32\\.conda\\envs\\pytorch\\lib\\site-packages (from spacy<4.0,>=3.1.0->crosslingual-coreference) (1.0.2)\n",
      "Requirement already satisfied: blis<0.8.0,>=0.4.0 in c:\\users\\dgg32\\.conda\\envs\\pytorch\\lib\\site-packages (from spacy<4.0,>=3.1.0->crosslingual-coreference) (0.7.7)\n",
      "Requirement already satisfied: smart-open<6.0.0,>=5.0.0 in c:\\users\\dgg32\\.conda\\envs\\pytorch\\lib\\site-packages (from pathy>=0.3.5->spacy<4.0,>=3.1.0->crosslingual-coreference) (5.2.1)\n",
      "Requirement already satisfied: pillow!=8.3.0,>=5.3.0 in c:\\users\\dgg32\\.conda\\envs\\pytorch\\lib\\site-packages (from torchvision<0.12.0->crosslingual-coreference) (9.0.1)\n",
      "Requirement already satisfied: sacremoses in c:\\users\\dgg32\\.conda\\envs\\pytorch\\lib\\site-packages (from transformers<4.19,>=4.1->allennlp<3.0,>=2.8->crosslingual-coreference) (0.0.43)\n",
      "Requirement already satisfied: tokenizers<0.11,>=0.10.1 in c:\\users\\dgg32\\.conda\\envs\\pytorch\\lib\\site-packages (from transformers<4.19,>=4.1->allennlp<3.0,>=2.8->crosslingual-coreference) (0.10.3)\n",
      "Collecting GitPython>=1.0.0\n",
      "  Downloading GitPython-3.1.27-py3-none-any.whl (181 kB)\n",
      "Collecting sentry-sdk>=1.0.0\n",
      "  Downloading sentry_sdk-1.5.10-py2.py3-none-any.whl (144 kB)\n",
      "Collecting shortuuid>=0.5.0\n",
      "  Downloading shortuuid-1.0.8-py3-none-any.whl (9.5 kB)\n",
      "Collecting pathtools\n",
      "  Downloading pathtools-0.1.2.tar.gz (11 kB)\n",
      "Collecting docker-pycreds>=0.4.0\n",
      "  Downloading docker_pycreds-0.4.0-py2.py3-none-any.whl (9.0 kB)\n",
      "Collecting setproctitle\n",
      "  Downloading setproctitle-1.2.3-cp38-cp38-win_amd64.whl (10 kB)\n",
      "Collecting psutil>=5.0.0\n",
      "  Downloading psutil-5.9.0-cp38-cp38-win_amd64.whl (246 kB)\n",
      "Collecting promise<3,>=2.0\n",
      "  Downloading promise-2.3.tar.gz (19 kB)\n",
      "Collecting gitdb<5,>=4.0.1\n",
      "  Downloading gitdb-4.0.9-py3-none-any.whl (63 kB)\n",
      "Collecting smmap<6,>=3.0.1\n",
      "  Downloading smmap-5.0.0-py3-none-any.whl (24 kB)\n",
      "Collecting multiprocess\n",
      "  Downloading multiprocess-0.70.12.2-py38-none-any.whl (128 kB)\n",
      "Collecting pyarrow>=5.0.0\n",
      "  Downloading pyarrow-7.0.0-cp38-cp38-win_amd64.whl (16.1 MB)\n",
      "Collecting fsspec[http]>=2021.05.0\n",
      "  Downloading fsspec-2022.3.0-py3-none-any.whl (136 kB)\n",
      "Collecting xxhash\n",
      "  Downloading xxhash-3.0.0-cp38-cp38-win_amd64.whl (29 kB)\n",
      "Requirement already satisfied: pandas in c:\\users\\dgg32\\.conda\\envs\\pytorch\\lib\\site-packages (from datasets->allennlp-models<3.0,>=2.8->crosslingual-coreference) (1.4.2)\n",
      "Collecting responses<0.19\n",
      "  Downloading responses-0.18.0-py3-none-any.whl (38 kB)\n",
      "Collecting aiohttp\n",
      "  Downloading aiohttp-3.8.1-cp38-cp38-win_amd64.whl (555 kB)\n",
      "Collecting frozenlist>=1.1.1\n",
      "  Downloading frozenlist-1.3.0-cp38-cp38-win_amd64.whl (33 kB)\n",
      "Collecting aiosignal>=1.1.2\n",
      "  Downloading aiosignal-1.2.0-py3-none-any.whl (8.2 kB)\n",
      "Collecting multidict<7.0,>=4.5\n",
      "  Downloading multidict-6.0.2-cp38-cp38-win_amd64.whl (28 kB)\n",
      "Collecting async-timeout<5.0,>=4.0.0a3\n",
      "  Downloading async_timeout-4.0.2-py3-none-any.whl (5.8 kB)\n",
      "Collecting attrs>=17.3.0\n",
      "  Downloading attrs-21.4.0-py2.py3-none-any.whl (60 kB)\n",
      "Collecting yarl<2.0,>=1.0\n",
      "  Downloading yarl-1.7.2-cp38-cp38-win_amd64.whl (122 kB)\n",
      "Requirement already satisfied: wcwidth>=0.2.5 in c:\\users\\dgg32\\.conda\\envs\\pytorch\\lib\\site-packages (from ftfy->allennlp-models<3.0,>=2.8->crosslingual-coreference) (0.2.5)\n",
      "Requirement already satisfied: MarkupSafe>=2.0 in c:\\users\\dgg32\\.conda\\envs\\pytorch\\lib\\site-packages (from jinja2->spacy<4.0,>=3.1.0->crosslingual-coreference) (2.1.1)\n",
      "Requirement already satisfied: pytz>=2020.1 in c:\\users\\dgg32\\.conda\\envs\\pytorch\\lib\\site-packages (from pandas->datasets->allennlp-models<3.0,>=2.8->crosslingual-coreference) (2022.1)\n",
      "Collecting py>=1.8.2\n",
      "  Downloading py-1.11.0-py2.py3-none-any.whl (98 kB)\n",
      "Collecting atomicwrites>=1.0\n",
      "  Downloading atomicwrites-1.4.0-py2.py3-none-any.whl (6.8 kB)\n",
      "Collecting pluggy<2.0,>=0.12\n",
      "  Downloading pluggy-1.0.0-py2.py3-none-any.whl (13 kB)\n",
      "Collecting iniconfig\n",
      "  Downloading iniconfig-1.1.1-py2.py3-none-any.whl (5.0 kB)\n",
      "Collecting tomli>=1.0.0\n",
      "  Downloading tomli-2.0.1-py3-none-any.whl (12 kB)\n",
      "Collecting threadpoolctl>=2.0.0\n",
      "  Downloading threadpoolctl-3.1.0-py3-none-any.whl (14 kB)\n",
      "Building wheels for collected packages: fairscale, termcolor, promise, word2number, pathtools\n",
      "  Building wheel for fairscale (PEP 517): started\n",
      "  Building wheel for fairscale (PEP 517): finished with status 'done'\n",
      "  Created wheel for fairscale: filename=fairscale-0.4.6-py3-none-any.whl size=307243 sha256=f12bc132a55e1534c556850f6c2bb26a7fd81a3cd3ec7f0c82d9742eb37c354a\n",
      "  Stored in directory: c:\\users\\dgg32\\appdata\\local\\pip\\cache\\wheels\\77\\4c\\a4\\f6c0eec2ec5c8ffca075e62b0329801f862e1f1b71422f456b\n",
      "  Building wheel for termcolor (setup.py): started\n",
      "  Building wheel for termcolor (setup.py): finished with status 'done'\n",
      "  Created wheel for termcolor: filename=termcolor-1.1.0-py3-none-any.whl size=4848 sha256=d569bc2163e2fac9b0dedf94a3af8878ec69d9d189940e1a7905ec2c0eaf8452\n",
      "  Stored in directory: c:\\users\\dgg32\\appdata\\local\\pip\\cache\\wheels\\a0\\16\\9c\\5473df82468f958445479c59e784896fa24f4a5fc024b0f501\n",
      "  Building wheel for promise (setup.py): started\n",
      "  Building wheel for promise (setup.py): finished with status 'done'\n",
      "  Created wheel for promise: filename=promise-2.3-py3-none-any.whl size=21503 sha256=11a3d2e3b1b17fd532e6c4a563617394cd6e1dc39a9613f762a862be4863b732\n",
      "  Stored in directory: c:\\users\\dgg32\\appdata\\local\\pip\\cache\\wheels\\54\\aa\\01\\724885182f93150035a2a91bce34a12877e8067a97baaf5dc8\n",
      "  Building wheel for word2number (setup.py): started\n",
      "  Building wheel for word2number (setup.py): finished with status 'done'\n",
      "  Created wheel for word2number: filename=word2number-1.1-py3-none-any.whl size=5583 sha256=618b0e5bd297c9797578b4bae8cf024b17fe4b63fee03fc86eda7ee7cd2ab3d6\n",
      "  Stored in directory: c:\\users\\dgg32\\appdata\\local\\pip\\cache\\wheels\\cb\\f3\\5a\\d88198fdeb46781ddd7e7f2653061af83e7adb2a076d8886d6\n",
      "  Building wheel for pathtools (setup.py): started\n",
      "  Building wheel for pathtools (setup.py): finished with status 'done'\n",
      "  Created wheel for pathtools: filename=pathtools-0.1.2-py3-none-any.whl size=8806 sha256=26b98f5521138ee710a4479fff0d8b5c9419b5a61b35db765e457a62bbcc618a\n",
      "  Stored in directory: c:\\users\\dgg32\\appdata\\local\\pip\\cache\\wheels\\4c\\8e\\7e\\72fbc243e1aeecae64a96875432e70d4e92f3d2d18123be004\n",
      "Successfully built fairscale termcolor promise word2number pathtools\n",
      "Installing collected packages: pyasn1, rsa, pyasn1-modules, cachetools, jmespath, googleapis-common-protos, google-auth, smmap, multidict, google-crc32c, google-api-core, frozenlist, botocore, yarl, s3transfer, google-resumable-media, google-cloud-core, gitdb, attrs, async-timeout, aiosignal, torch, tomli, threadpoolctl, shortuuid, setproctitle, sentry-sdk, scipy, py, psutil, promise, pluggy, pathtools, iniconfig, google-cloud-storage, GitPython, fsspec, docker-pycreds, dill, boto3, atomicwrites, aiohttp, xxhash, wandb, torchvision, termcolor, tensorboardX, sentencepiece, scikit-learn, responses, pytest, pyarrow, nltk, multiprocess, more-itertools, lmdb, h5py, fairscale, cached-path, base58, word2number, py-rouge, ftfy, datasets, conllu, allennlp, torchaudio, allennlp-models, crosslingual-coreference\n",
      "  Attempting uninstall: torch\n",
      "    Found existing installation: torch 1.11.0\n",
      "    Uninstalling torch-1.11.0:\n",
      "      Successfully uninstalled torch-1.11.0\n",
      "  Attempting uninstall: torchvision\n",
      "    Found existing installation: torchvision 0.12.0\n",
      "    Uninstalling torchvision-0.12.0:\n",
      "      Successfully uninstalled torchvision-0.12.0\n",
      "  Attempting uninstall: torchaudio\n",
      "    Found existing installation: torchaudio 0.11.0\n",
      "    Uninstalling torchaudio-0.11.0:\n",
      "      Successfully uninstalled torchaudio-0.11.0\n",
      "Successfully installed GitPython-3.1.27 aiohttp-3.8.1 aiosignal-1.2.0 allennlp-2.9.3 allennlp-models-2.9.3 async-timeout-4.0.2 atomicwrites-1.4.0 attrs-21.4.0 base58-2.1.1 boto3-1.21.46 botocore-1.24.46 cached-path-1.1.2 cachetools-5.0.0 conllu-4.4.1 crosslingual-coreference-0.2.1 datasets-2.1.0 dill-0.3.4 docker-pycreds-0.4.0 fairscale-0.4.6 frozenlist-1.3.0 fsspec-2022.3.0 ftfy-6.1.1 gitdb-4.0.9 google-api-core-2.7.2 google-auth-2.6.6 google-cloud-core-2.3.0 google-cloud-storage-2.3.0 google-crc32c-1.3.0 google-resumable-media-2.3.2 googleapis-common-protos-1.56.0 h5py-3.6.0 iniconfig-1.1.1 jmespath-1.0.0 lmdb-1.3.0 more-itertools-8.12.0 multidict-6.0.2 multiprocess-0.70.12.2 nltk-3.7 pathtools-0.1.2 pluggy-1.0.0 promise-2.3 psutil-5.9.0 py-1.11.0 py-rouge-1.1 pyarrow-7.0.0 pyasn1-0.4.8 pyasn1-modules-0.2.8 pytest-7.1.2 responses-0.18.0 rsa-4.8 s3transfer-0.5.2 scikit-learn-1.0.2 scipy-1.8.0 sentencepiece-0.1.96 sentry-sdk-1.5.10 setproctitle-1.2.3 shortuuid-1.0.8 smmap-5.0.0 tensorboardX-2.5 termcolor-1.1.0 threadpoolctl-3.1.0 tomli-2.0.1 torch-1.10.2 torchaudio-0.10.2 torchvision-0.11.3 wandb-0.12.15 word2number-1.1 xxhash-3.0.0 yarl-1.7.2\n"
     ]
    }
   ],
   "source": [
    "!pip install crosslingual-coreference"
   ]
  },
  {
   "cell_type": "code",
   "execution_count": 2,
   "metadata": {},
   "outputs": [
    {
     "name": "stderr",
     "output_type": "stream",
     "text": [
      "[nltk_data] Downloading package omw-1.4 to\n",
      "[nltk_data]     C:\\Users\\dgg32\\AppData\\Roaming\\nltk_data...\n",
      "[nltk_data]   Unzipping corpora\\omw-1.4.zip.\n"
     ]
    }
   ],
   "source": [
    "from crosslingual_coreference import Predictor\n",
    "\n"
   ]
  },
  {
   "cell_type": "code",
   "execution_count": 3,
   "metadata": {},
   "outputs": [
    {
     "name": "stderr",
     "output_type": "stream",
     "text": [
      "models/crosslingual-coreference/infoxlm-base/model.tar.gz: 856997KB [01:55, 7392.81KB/s]                             \n",
      "[nltk_data] Downloading package punkt to\n",
      "[nltk_data]     C:\\Users\\dgg32\\AppData\\Roaming\\nltk_data...\n",
      "[nltk_data]   Unzipping tokenizers\\punkt.zip.\n",
      "[nltk_data] Downloading package wordnet to\n",
      "[nltk_data]     C:\\Users\\dgg32\\AppData\\Roaming\\nltk_data...\n",
      "[nltk_data]   Unzipping corpora\\wordnet.zip.\n",
      "error loading _jsonnet (this is expected on Windows), treating C:\\Users\\dgg32\\AppData\\Local\\Temp\\tmpjr_lp16g\\config.json as plain json\n",
      "Downloading: 100%|██████████| 512/512 [00:00<00:00, 103kB/s]\n",
      "Downloading: 100%|██████████| 4.83M/4.83M [00:03<00:00, 1.44MB/s]\n",
      "Downloading: 100%|██████████| 8.68M/8.68M [00:03<00:00, 2.88MB/s]\n",
      "Downloading: 100%|██████████| 898M/898M [02:04<00:00, 7.54MB/s]   \n",
      "Some weights of the model checkpoint at microsoft/infoxlm-base were not used when initializing XLMRobertaModel: ['lm_head.bias', 'lm_head.dense.weight', 'lm_head.dense.bias', 'lm_head.decoder.weight', 'lm_head.layer_norm.weight', 'lm_head.layer_norm.bias']\n",
      "- This IS expected if you are initializing XLMRobertaModel from the checkpoint of a model trained on another task or with another architecture (e.g. initializing a BertForSequenceClassification model from a BertForPreTraining model).\n",
      "- This IS NOT expected if you are initializing XLMRobertaModel from the checkpoint of a model that you expect to be exactly identical (initializing a BertForSequenceClassification model from a BertForSequenceClassification model).\n"
     ]
    },
    {
     "name": "stdout",
     "output_type": "stream",
     "text": [
      "\n",
      "    The effects of retinoic acid (RA), a common morphogen and gene expression regulator in vertebrates, were studied in the freshwater sponge Ephydatia muelleri, both on morphogenesis and on the expression of EmH-3 homeobox-containing gene. At 0.3 microM, retinoic acid (RA), a common morphogen and gene expression regulator in vertebrates had no noticeable influence on sponge development, slightly up-regulating EmH-3 expression. In contrast, in sponges reared in 10, 8 microM and to a lesser extent 2 microM RA, there was a strong down-regulation of EmH-3 expression after hatching. a strong down-regulation of EmH-3 expression after hatching induced modifications in cell composition and morphology, greatly disturbing normal development. Archaeocytes kept the features found in newly hatched sponges while choanocytes and a functional aquiferous system were completely absent. The inhibition of morphogenesis and down-regulation of EmH-3 expression were reversible when sponges were no longer subjected to retinoic acid (RA), a common morphogen and gene expression regulator in vertebrates. After retinoic acid (RA), a common morphogen and gene expression regulator in vertebrates removal, EmH-3 expression returned to the high values found in untreated sponges, archaeocytes differentiated into choanocytes and sponges achieved a normal development. These results clearly show that, in freshwater sponges, the most primitive metazoan, retinoic acid (RA), a common morphogen and gene expression regulator in vertebrates may also act as a morphogen, regulating the expression of a homeobox-containing gene. These results demonstrate that the expression of EmH-3 is necessary for the differentiation of archaeocytes into choanocytes and hence for the formation of a complete functional aquiferous system. \n",
      "    \n"
     ]
    }
   ],
   "source": [
    "text = (\n",
    "    \"\"\"\n",
    "    The effects of retinoic acid (RA), a common morphogen and gene expression regulator in vertebrates, were studied in the freshwater sponge Ephydatia muelleri, both on morphogenesis and on the expression of EmH-3 homeobox-containing gene. At 0.3 microM, RA had no noticeable influence on sponge development, slightly up-regulating EmH-3 expression. In contrast, in sponges reared in 10, 8 microM and to a lesser extent 2 microM RA, there was a strong down-regulation of EmH-3 expression after hatching. This induced modifications in cell composition and morphology, greatly disturbing normal development. Archaeocytes kept the features found in newly hatched sponges while choanocytes and a functional aquiferous system were completely absent. The inhibition of morphogenesis and down-regulation of EmH-3 expression were reversible when sponges were no longer subjected to RA. After RA removal, EmH-3 expression returned to the high values found in untreated sponges, archaeocytes differentiated into choanocytes and sponges achieved a normal development. These results clearly show that, in freshwater sponges, the most primitive metazoan, RA may also act as a morphogen, regulating the expression of a homeobox-containing gene. They demonstrate that the expression of EmH-3 is necessary for the differentiation of archaeocytes into choanocytes and hence for the formation of a complete functional aquiferous system. \n",
    "    \"\"\"\n",
    ")\n",
    "\n",
    "predictor = Predictor(\n",
    "    language=\"en_core_web_sm\", device=-1, model_name=\"info_xlm\"\n",
    ")\n",
    "\n",
    "print(predictor.predict(text)[\"resolved_text\"])"
   ]
  },
  {
   "cell_type": "code",
   "execution_count": 4,
   "metadata": {},
   "outputs": [
    {
     "name": "stderr",
     "output_type": "stream",
     "text": [
      "error loading _jsonnet (this is expected on Windows), treating C:\\Users\\dgg32\\AppData\\Local\\Temp\\tmpty30y1lk\\config.json as plain json\n"
     ]
    },
    {
     "name": "stdout",
     "output_type": "stream",
     "text": [
      "\n",
      "    Estrogen exerts complex physiologic effects on brain functions which could partly be mediated through modulation of the dopaminergic system. Transcription control of the human D1A dopamine receptor gene by estrogenic stimulation was studied in the D1A expressing neuroblastoma cell line SK-N-MC. Transient co-transfection of the human D1A dopamine receptor gene promoter-CAT constructs along with expression vectors for steroid hormone receptors indicated that estrogen, but not progesterone or glucocorticoid, receptors up-regulate transcription of the human D1A dopamine receptor gene by about 1.7-fold. \n",
      "    \n"
     ]
    }
   ],
   "source": [
    "text = (\n",
    "    \"\"\"\n",
    "    Estrogen exerts complex physiologic effects on brain functions which could partly be mediated through modulation of the dopaminergic system. Transcription control of the human D1A dopamine receptor gene by estrogenic stimulation was studied in the D1A expressing neuroblastoma cell line SK-N-MC. Transient co-transfection of D1A gene promoter-CAT constructs along with expression vectors for steroid hormone receptors indicated that estrogen, but not progesterone or glucocorticoid, receptors up-regulate transcription of this gene by about 1.7-fold. \n",
    "    \"\"\"\n",
    ")\n",
    "\n",
    "predictor = Predictor(\n",
    "    language=\"en_core_web_sm\", device=-1, model_name=\"info_xlm\"\n",
    ")\n",
    "\n",
    "print(predictor.predict(text)[\"resolved_text\"])"
   ]
  },
  {
   "cell_type": "code",
   "execution_count": 9,
   "metadata": {},
   "outputs": [
    {
     "name": "stdout",
     "output_type": "stream",
     "text": [
      "\n",
      "    The first gene that was tested in modulating antisense RNA-mediated gene regulation in the present model was the S.pombe transcription factor thi1. As expected, overexpression of the S.pombe transcription factor thi1 up-regulated nmt1-driven antisense lacZ transcription.\n",
      "    \n"
     ]
    }
   ],
   "source": [
    "text = (\n",
    "    \"\"\"\n",
    "    The first gene that was tested in modulating antisense RNA-mediated gene regulation in the present model was the S.pombe transcription factor thi1. As expected, overexpression of this gene up-regulated nmt1-driven antisense lacZ transcription.\n",
    "    \"\"\"\n",
    ")\n",
    "\n",
    "predictor = Predictor(\n",
    "    language=\"en_core_web_sm\", device=-1, model_name=\"info_xlm\"\n",
    ")\n",
    "\n",
    "print(predictor.predict(text)[\"resolved_text\"])"
   ]
  },
  {
   "cell_type": "code",
   "execution_count": 10,
   "metadata": {},
   "outputs": [
    {
     "name": "stdout",
     "output_type": "stream",
     "text": [
      "\n",
      "    TSC22D3, also known as glucocorticoid-induced leucine zipper protein (GILZ), is expressed in a variety of mammalian cells. According to a recent report, TSC22D3, also known as glucocorticoid-induced leucine zipper protein (GILZ) up-regulated cyclin D1 and phosphorylated retinoblastoma, down-regulated cyclin-dependent kinase inhibitor p21, and promoted entry into the S phase of the cell cycle in epithelial ovarian cancer HCCs are hypervascular tumors and angiogenesis plays a crucial role in the process of neoplasia (25).\n",
      "    \n"
     ]
    }
   ],
   "source": [
    "text = (\n",
    "    \"\"\"\n",
    "    TSC22D3, also known as glucocorticoid-induced leucine zipper protein (GILZ), is expressed in a variety of mammalian cells. According to a recent report, this gene up-regulated cyclin D1 and phosphorylated retinoblastoma, down-regulated cyclin-dependent kinase inhibitor p21, and promoted entry into the S phase of the cell cycle in epithelial ovarian cancer HCCs are hypervascular tumors and angiogenesis plays a crucial role in the process of neoplasia (25).\n",
    "    \"\"\"\n",
    ")\n",
    "\n",
    "predictor = Predictor(\n",
    "    language=\"en_core_web_sm\", device=-1, model_name=\"info_xlm\"\n",
    ")\n",
    "\n",
    "print(predictor.predict(text)[\"resolved_text\"])"
   ]
  },
  {
   "cell_type": "code",
   "execution_count": 11,
   "metadata": {},
   "outputs": [
    {
     "name": "stdout",
     "output_type": "stream",
     "text": [
      "\n",
      "The analysis of this gene mRNA accumulation after blue light irradiation showed that the expression of this gene is up-regulated by blue light, as happens with the other structural genes involved in carotenogenesis in M. circinelloides.\n",
      "    \n"
     ]
    }
   ],
   "source": [
    "text = (\n",
    "    \"\"\"\n",
    "The analysis of carG mRNA accumulation after blue light irradiation showed that the expression of this gene is up-regulated by blue light, as happens with the other structural genes involved in carotenogenesis in M. circinelloides.\n",
    "    \"\"\"\n",
    ")\n",
    "\n",
    "predictor = Predictor(\n",
    "    language=\"en_core_web_sm\", device=-1, model_name=\"info_xlm\"\n",
    ")\n",
    "\n",
    "print(predictor.predict(text)[\"resolved_text\"])"
   ]
  },
  {
   "cell_type": "code",
   "execution_count": 5,
   "metadata": {},
   "outputs": [
    {
     "name": "stderr",
     "output_type": "stream",
     "text": [
      "error loading _jsonnet (this is expected on Windows), treating C:\\Users\\dgg32\\AppData\\Local\\Temp\\tmp65bidowh\\config.json as plain json\n"
     ]
    },
    {
     "name": "stdout",
     "output_type": "stream",
     "text": [
      "\n",
      "In chicken, adiposity is influenced by hepatic stearoyl-CoA desaturase (SCD) 1. hepatic stearoyl-CoA desaturase (SCD) 1 is up-regulated by low-fat high-carbohydrate diet and down-regulated by addition of polyunsaturated fatty acids (PUFA).\n",
      "    \n"
     ]
    }
   ],
   "source": [
    "text = (\n",
    "    \"\"\"\n",
    "In chicken, adiposity is influenced by hepatic stearoyl-CoA desaturase (SCD) 1. This gene is up-regulated by low-fat high-carbohydrate diet and down-regulated by addition of polyunsaturated fatty acids (PUFA).\n",
    "    \"\"\"\n",
    ")\n",
    "\n",
    "predictor = Predictor(\n",
    "    language=\"en_core_web_sm\", device=-1, model_name=\"info_xlm\"\n",
    ")\n",
    "\n",
    "print(predictor.predict(text)[\"resolved_text\"])"
   ]
  },
  {
   "cell_type": "code",
   "execution_count": null,
   "metadata": {},
   "outputs": [],
   "source": []
  }
 ],
 "metadata": {
  "interpreter": {
   "hash": "f81f0d68aa616264854b7a0d1439d3778ab03801ab2a24c8ee0f261f8a533668"
  },
  "kernelspec": {
   "display_name": "Python 3.9.12 ('pytorch')",
   "language": "python",
   "name": "python3"
  },
  "language_info": {
   "codemirror_mode": {
    "name": "ipython",
    "version": 3
   },
   "file_extension": ".py",
   "mimetype": "text/x-python",
   "name": "python",
   "nbconvert_exporter": "python",
   "pygments_lexer": "ipython3",
   "version": "3.8.13"
  },
  "orig_nbformat": 4
 },
 "nbformat": 4,
 "nbformat_minor": 2
}
