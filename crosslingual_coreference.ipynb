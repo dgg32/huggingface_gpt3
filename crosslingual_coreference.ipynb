{
 "cells": [
  {
   "cell_type": "code",
   "execution_count": 2,
   "metadata": {},
   "outputs": [
    {
     "name": "stdout",
     "output_type": "stream",
     "text": [
      "Requirement already satisfied: crosslingual-coreference in /home/huangsixing/anaconda3/envs/pytorch/lib/python3.9/site-packages (0.2.1)\n",
      "Requirement already satisfied: allennlp-models<3.0,>=2.8 in /home/huangsixing/anaconda3/envs/pytorch/lib/python3.9/site-packages (from crosslingual-coreference) (2.9.3)\n",
      "Requirement already satisfied: torchaudio<0.11 in /home/huangsixing/anaconda3/envs/pytorch/lib/python3.9/site-packages (from crosslingual-coreference) (0.10.2)\n",
      "Requirement already satisfied: spacy<4.0,>=3.1.0 in /home/huangsixing/anaconda3/envs/pytorch/lib/python3.9/site-packages (from crosslingual-coreference) (3.2.1)\n",
      "Requirement already satisfied: torchvision<0.12.0 in /home/huangsixing/anaconda3/envs/pytorch/lib/python3.9/site-packages (from crosslingual-coreference) (0.11.3)\n",
      "Requirement already satisfied: click<8.1.0 in /home/huangsixing/anaconda3/envs/pytorch/lib/python3.9/site-packages (from crosslingual-coreference) (8.0.4)\n",
      "Requirement already satisfied: torch<1.11.0,>=1.10.0 in /home/huangsixing/anaconda3/envs/pytorch/lib/python3.9/site-packages (from crosslingual-coreference) (1.10.2)\n",
      "Requirement already satisfied: allennlp<3.0,>=2.8 in /home/huangsixing/anaconda3/envs/pytorch/lib/python3.9/site-packages (from crosslingual-coreference) (2.9.3)\n",
      "Requirement already satisfied: lmdb in /home/huangsixing/anaconda3/envs/pytorch/lib/python3.9/site-packages (from allennlp<3.0,>=2.8->crosslingual-coreference) (1.3.0)\n",
      "Requirement already satisfied: sentencepiece in /home/huangsixing/anaconda3/envs/pytorch/lib/python3.9/site-packages (from allennlp<3.0,>=2.8->crosslingual-coreference) (0.1.96)\n",
      "Requirement already satisfied: tqdm>=4.62 in /home/huangsixing/anaconda3/envs/pytorch/lib/python3.9/site-packages (from allennlp<3.0,>=2.8->crosslingual-coreference) (4.63.0)\n",
      "Requirement already satisfied: termcolor==1.1.0 in /home/huangsixing/anaconda3/envs/pytorch/lib/python3.9/site-packages (from allennlp<3.0,>=2.8->crosslingual-coreference) (1.1.0)\n",
      "Requirement already satisfied: nltk in /home/huangsixing/anaconda3/envs/pytorch/lib/python3.9/site-packages (from allennlp<3.0,>=2.8->crosslingual-coreference) (3.7)\n",
      "Requirement already satisfied: transformers<4.19,>=4.1 in /home/huangsixing/anaconda3/envs/pytorch/lib/python3.9/site-packages (from allennlp<3.0,>=2.8->crosslingual-coreference) (4.11.3)\n",
      "Requirement already satisfied: typer>=0.4.1 in /home/huangsixing/anaconda3/envs/pytorch/lib/python3.9/site-packages (from allennlp<3.0,>=2.8->crosslingual-coreference) (0.4.1)\n",
      "Requirement already satisfied: pytest in /home/huangsixing/anaconda3/envs/pytorch/lib/python3.9/site-packages (from allennlp<3.0,>=2.8->crosslingual-coreference) (7.1.2)\n",
      "Requirement already satisfied: numpy in /home/huangsixing/anaconda3/envs/pytorch/lib/python3.9/site-packages (from allennlp<3.0,>=2.8->crosslingual-coreference) (1.21.5)\n",
      "Requirement already satisfied: filelock<3.7,>=3.3 in /home/huangsixing/anaconda3/envs/pytorch/lib/python3.9/site-packages (from allennlp<3.0,>=2.8->crosslingual-coreference) (3.6.0)\n",
      "Requirement already satisfied: dill in /home/huangsixing/anaconda3/envs/pytorch/lib/python3.9/site-packages (from allennlp<3.0,>=2.8->crosslingual-coreference) (0.3.4)\n",
      "Requirement already satisfied: wandb<0.13.0,>=0.10.0 in /home/huangsixing/anaconda3/envs/pytorch/lib/python3.9/site-packages (from allennlp<3.0,>=2.8->crosslingual-coreference) (0.12.15)\n",
      "Requirement already satisfied: scipy in /home/huangsixing/anaconda3/envs/pytorch/lib/python3.9/site-packages (from allennlp<3.0,>=2.8->crosslingual-coreference) (1.8.0)\n",
      "Requirement already satisfied: huggingface-hub>=0.0.16 in /home/huangsixing/anaconda3/envs/pytorch/lib/python3.9/site-packages (from allennlp<3.0,>=2.8->crosslingual-coreference) (0.5.1)\n",
      "Requirement already satisfied: h5py in /home/huangsixing/anaconda3/envs/pytorch/lib/python3.9/site-packages (from allennlp<3.0,>=2.8->crosslingual-coreference) (3.6.0)\n",
      "Requirement already satisfied: cached-path<1.2.0,>=1.0.2 in /home/huangsixing/anaconda3/envs/pytorch/lib/python3.9/site-packages (from allennlp<3.0,>=2.8->crosslingual-coreference) (1.1.2)\n",
      "Requirement already satisfied: fairscale==0.4.6 in /home/huangsixing/anaconda3/envs/pytorch/lib/python3.9/site-packages (from allennlp<3.0,>=2.8->crosslingual-coreference) (0.4.6)\n",
      "Requirement already satisfied: scikit-learn in /home/huangsixing/anaconda3/envs/pytorch/lib/python3.9/site-packages (from allennlp<3.0,>=2.8->crosslingual-coreference) (1.0.2)\n",
      "Requirement already satisfied: tensorboardX>=1.2 in /home/huangsixing/anaconda3/envs/pytorch/lib/python3.9/site-packages (from allennlp<3.0,>=2.8->crosslingual-coreference) (2.5)\n",
      "Requirement already satisfied: more-itertools in /home/huangsixing/anaconda3/envs/pytorch/lib/python3.9/site-packages (from allennlp<3.0,>=2.8->crosslingual-coreference) (8.12.0)\n",
      "Requirement already satisfied: base58 in /home/huangsixing/anaconda3/envs/pytorch/lib/python3.9/site-packages (from allennlp<3.0,>=2.8->crosslingual-coreference) (2.1.1)\n",
      "Requirement already satisfied: jsonnet>=0.10.0 in /home/huangsixing/anaconda3/envs/pytorch/lib/python3.9/site-packages (from allennlp<3.0,>=2.8->crosslingual-coreference) (0.18.0)\n",
      "Requirement already satisfied: requests>=2.18 in /home/huangsixing/anaconda3/envs/pytorch/lib/python3.9/site-packages (from allennlp<3.0,>=2.8->crosslingual-coreference) (2.27.1)\n",
      "Requirement already satisfied: py-rouge==1.1 in /home/huangsixing/anaconda3/envs/pytorch/lib/python3.9/site-packages (from allennlp-models<3.0,>=2.8->crosslingual-coreference) (1.1)\n",
      "Requirement already satisfied: conllu==4.4.1 in /home/huangsixing/anaconda3/envs/pytorch/lib/python3.9/site-packages (from allennlp-models<3.0,>=2.8->crosslingual-coreference) (4.4.1)\n",
      "Requirement already satisfied: word2number>=1.1 in /home/huangsixing/anaconda3/envs/pytorch/lib/python3.9/site-packages (from allennlp-models<3.0,>=2.8->crosslingual-coreference) (1.1)\n",
      "Requirement already satisfied: ftfy in /home/huangsixing/anaconda3/envs/pytorch/lib/python3.9/site-packages (from allennlp-models<3.0,>=2.8->crosslingual-coreference) (6.1.1)\n",
      "Requirement already satisfied: datasets in /home/huangsixing/anaconda3/envs/pytorch/lib/python3.9/site-packages (from allennlp-models<3.0,>=2.8->crosslingual-coreference) (2.1.0)\n",
      "Requirement already satisfied: boto3<2.0,>=1.0 in /home/huangsixing/anaconda3/envs/pytorch/lib/python3.9/site-packages (from cached-path<1.2.0,>=1.0.2->allennlp<3.0,>=2.8->crosslingual-coreference) (1.21.46)\n",
      "Requirement already satisfied: google-cloud-storage<3.0,>=1.0 in /home/huangsixing/anaconda3/envs/pytorch/lib/python3.9/site-packages (from cached-path<1.2.0,>=1.0.2->allennlp<3.0,>=2.8->crosslingual-coreference) (2.3.0)\n",
      "Requirement already satisfied: jmespath<2.0.0,>=0.7.1 in /home/huangsixing/anaconda3/envs/pytorch/lib/python3.9/site-packages (from boto3<2.0,>=1.0->cached-path<1.2.0,>=1.0.2->allennlp<3.0,>=2.8->crosslingual-coreference) (1.0.0)\n",
      "Requirement already satisfied: botocore<1.25.0,>=1.24.46 in /home/huangsixing/anaconda3/envs/pytorch/lib/python3.9/site-packages (from boto3<2.0,>=1.0->cached-path<1.2.0,>=1.0.2->allennlp<3.0,>=2.8->crosslingual-coreference) (1.24.46)\n",
      "Requirement already satisfied: s3transfer<0.6.0,>=0.5.0 in /home/huangsixing/anaconda3/envs/pytorch/lib/python3.9/site-packages (from boto3<2.0,>=1.0->cached-path<1.2.0,>=1.0.2->allennlp<3.0,>=2.8->crosslingual-coreference) (0.5.2)\n",
      "Requirement already satisfied: python-dateutil<3.0.0,>=2.1 in /home/huangsixing/anaconda3/envs/pytorch/lib/python3.9/site-packages (from botocore<1.25.0,>=1.24.46->boto3<2.0,>=1.0->cached-path<1.2.0,>=1.0.2->allennlp<3.0,>=2.8->crosslingual-coreference) (2.8.2)\n",
      "Requirement already satisfied: urllib3<1.27,>=1.25.4 in /home/huangsixing/anaconda3/envs/pytorch/lib/python3.9/site-packages (from botocore<1.25.0,>=1.24.46->boto3<2.0,>=1.0->cached-path<1.2.0,>=1.0.2->allennlp<3.0,>=2.8->crosslingual-coreference) (1.26.9)\n",
      "Requirement already satisfied: google-cloud-core<3.0dev,>=2.3.0 in /home/huangsixing/anaconda3/envs/pytorch/lib/python3.9/site-packages (from google-cloud-storage<3.0,>=1.0->cached-path<1.2.0,>=1.0.2->allennlp<3.0,>=2.8->crosslingual-coreference) (2.3.0)\n",
      "Requirement already satisfied: google-auth<3.0dev,>=1.25.0 in /home/huangsixing/anaconda3/envs/pytorch/lib/python3.9/site-packages (from google-cloud-storage<3.0,>=1.0->cached-path<1.2.0,>=1.0.2->allennlp<3.0,>=2.8->crosslingual-coreference) (2.6.6)\n",
      "Requirement already satisfied: protobuf in /home/huangsixing/anaconda3/envs/pytorch/lib/python3.9/site-packages (from google-cloud-storage<3.0,>=1.0->cached-path<1.2.0,>=1.0.2->allennlp<3.0,>=2.8->crosslingual-coreference) (3.19.1)\n",
      "Requirement already satisfied: google-resumable-media>=2.3.2 in /home/huangsixing/anaconda3/envs/pytorch/lib/python3.9/site-packages (from google-cloud-storage<3.0,>=1.0->cached-path<1.2.0,>=1.0.2->allennlp<3.0,>=2.8->crosslingual-coreference) (2.3.2)\n",
      "Requirement already satisfied: google-api-core!=2.0.*,!=2.1.*,!=2.2.*,!=2.3.0,<3.0.0dev,>=1.31.5 in /home/huangsixing/anaconda3/envs/pytorch/lib/python3.9/site-packages (from google-cloud-storage<3.0,>=1.0->cached-path<1.2.0,>=1.0.2->allennlp<3.0,>=2.8->crosslingual-coreference) (2.7.2)\n",
      "Requirement already satisfied: googleapis-common-protos<2.0dev,>=1.52.0 in /home/huangsixing/anaconda3/envs/pytorch/lib/python3.9/site-packages (from google-api-core!=2.0.*,!=2.1.*,!=2.2.*,!=2.3.0,<3.0.0dev,>=1.31.5->google-cloud-storage<3.0,>=1.0->cached-path<1.2.0,>=1.0.2->allennlp<3.0,>=2.8->crosslingual-coreference) (1.56.0)\n",
      "Requirement already satisfied: six>=1.9.0 in /home/huangsixing/anaconda3/envs/pytorch/lib/python3.9/site-packages (from google-auth<3.0dev,>=1.25.0->google-cloud-storage<3.0,>=1.0->cached-path<1.2.0,>=1.0.2->allennlp<3.0,>=2.8->crosslingual-coreference) (1.16.0)\n",
      "Requirement already satisfied: cachetools<6.0,>=2.0.0 in /home/huangsixing/anaconda3/envs/pytorch/lib/python3.9/site-packages (from google-auth<3.0dev,>=1.25.0->google-cloud-storage<3.0,>=1.0->cached-path<1.2.0,>=1.0.2->allennlp<3.0,>=2.8->crosslingual-coreference) (5.0.0)\n",
      "Requirement already satisfied: pyasn1-modules>=0.2.1 in /home/huangsixing/anaconda3/envs/pytorch/lib/python3.9/site-packages (from google-auth<3.0dev,>=1.25.0->google-cloud-storage<3.0,>=1.0->cached-path<1.2.0,>=1.0.2->allennlp<3.0,>=2.8->crosslingual-coreference) (0.2.8)\n",
      "Requirement already satisfied: rsa<5,>=3.1.4 in /home/huangsixing/anaconda3/envs/pytorch/lib/python3.9/site-packages (from google-auth<3.0dev,>=1.25.0->google-cloud-storage<3.0,>=1.0->cached-path<1.2.0,>=1.0.2->allennlp<3.0,>=2.8->crosslingual-coreference) (4.8)\n",
      "Requirement already satisfied: google-crc32c<2.0dev,>=1.0 in /home/huangsixing/anaconda3/envs/pytorch/lib/python3.9/site-packages (from google-resumable-media>=2.3.2->google-cloud-storage<3.0,>=1.0->cached-path<1.2.0,>=1.0.2->allennlp<3.0,>=2.8->crosslingual-coreference) (1.3.0)\n",
      "Requirement already satisfied: pyyaml in /home/huangsixing/anaconda3/envs/pytorch/lib/python3.9/site-packages (from huggingface-hub>=0.0.16->allennlp<3.0,>=2.8->crosslingual-coreference) (6.0)\n",
      "Requirement already satisfied: typing-extensions>=3.7.4.3 in /home/huangsixing/anaconda3/envs/pytorch/lib/python3.9/site-packages (from huggingface-hub>=0.0.16->allennlp<3.0,>=2.8->crosslingual-coreference) (4.1.1)\n",
      "Requirement already satisfied: packaging>=20.9 in /home/huangsixing/anaconda3/envs/pytorch/lib/python3.9/site-packages (from huggingface-hub>=0.0.16->allennlp<3.0,>=2.8->crosslingual-coreference) (21.3)\n",
      "Requirement already satisfied: joblib in /home/huangsixing/anaconda3/envs/pytorch/lib/python3.9/site-packages (from nltk->allennlp<3.0,>=2.8->crosslingual-coreference) (1.1.0)\n",
      "Requirement already satisfied: regex>=2021.8.3 in /home/huangsixing/anaconda3/envs/pytorch/lib/python3.9/site-packages (from nltk->allennlp<3.0,>=2.8->crosslingual-coreference) (2022.3.15)\n",
      "Requirement already satisfied: pyparsing!=3.0.5,>=2.0.2 in /home/huangsixing/anaconda3/envs/pytorch/lib/python3.9/site-packages (from packaging>=20.9->huggingface-hub>=0.0.16->allennlp<3.0,>=2.8->crosslingual-coreference) (3.0.8)\n",
      "Requirement already satisfied: pyasn1<0.5.0,>=0.4.6 in /home/huangsixing/anaconda3/envs/pytorch/lib/python3.9/site-packages (from pyasn1-modules>=0.2.1->google-auth<3.0dev,>=1.25.0->google-cloud-storage<3.0,>=1.0->cached-path<1.2.0,>=1.0.2->allennlp<3.0,>=2.8->crosslingual-coreference) (0.4.8)\n",
      "Requirement already satisfied: idna<4,>=2.5 in /home/huangsixing/anaconda3/envs/pytorch/lib/python3.9/site-packages (from requests>=2.18->allennlp<3.0,>=2.8->crosslingual-coreference) (3.3)\n",
      "Requirement already satisfied: charset-normalizer~=2.0.0 in /home/huangsixing/anaconda3/envs/pytorch/lib/python3.9/site-packages (from requests>=2.18->allennlp<3.0,>=2.8->crosslingual-coreference) (2.0.4)\n",
      "Requirement already satisfied: certifi>=2017.4.17 in /home/huangsixing/anaconda3/envs/pytorch/lib/python3.9/site-packages (from requests>=2.18->allennlp<3.0,>=2.8->crosslingual-coreference) (2021.10.8)\n",
      "Requirement already satisfied: preshed<3.1.0,>=3.0.2 in /home/huangsixing/anaconda3/envs/pytorch/lib/python3.9/site-packages (from spacy<4.0,>=3.1.0->crosslingual-coreference) (3.0.5)\n",
      "Requirement already satisfied: pydantic!=1.8,!=1.8.1,<1.9.0,>=1.7.4 in /home/huangsixing/anaconda3/envs/pytorch/lib/python3.9/site-packages (from spacy<4.0,>=3.1.0->crosslingual-coreference) (1.8.2)\n",
      "Requirement already satisfied: spacy-legacy<3.1.0,>=3.0.8 in /home/huangsixing/anaconda3/envs/pytorch/lib/python3.9/site-packages (from spacy<4.0,>=3.1.0->crosslingual-coreference) (3.0.9)\n",
      "Requirement already satisfied: thinc<8.1.0,>=8.0.12 in /home/huangsixing/anaconda3/envs/pytorch/lib/python3.9/site-packages (from spacy<4.0,>=3.1.0->crosslingual-coreference) (8.0.13)\n",
      "Requirement already satisfied: langcodes<4.0.0,>=3.2.0 in /home/huangsixing/anaconda3/envs/pytorch/lib/python3.9/site-packages (from spacy<4.0,>=3.1.0->crosslingual-coreference) (3.3.0)\n",
      "Requirement already satisfied: murmurhash<1.1.0,>=0.28.0 in /home/huangsixing/anaconda3/envs/pytorch/lib/python3.9/site-packages (from spacy<4.0,>=3.1.0->crosslingual-coreference) (1.0.5)\n",
      "Requirement already satisfied: cymem<2.1.0,>=2.0.2 in /home/huangsixing/anaconda3/envs/pytorch/lib/python3.9/site-packages (from spacy<4.0,>=3.1.0->crosslingual-coreference) (2.0.5)\n",
      "Requirement already satisfied: setuptools in /home/huangsixing/anaconda3/envs/pytorch/lib/python3.9/site-packages (from spacy<4.0,>=3.1.0->crosslingual-coreference) (61.2.0)\n",
      "Requirement already satisfied: spacy-loggers<2.0.0,>=1.0.0 in /home/huangsixing/anaconda3/envs/pytorch/lib/python3.9/site-packages (from spacy<4.0,>=3.1.0->crosslingual-coreference) (1.0.2)\n",
      "Requirement already satisfied: srsly<3.0.0,>=2.4.1 in /home/huangsixing/anaconda3/envs/pytorch/lib/python3.9/site-packages (from spacy<4.0,>=3.1.0->crosslingual-coreference) (2.4.1)\n",
      "Requirement already satisfied: wasabi<1.1.0,>=0.8.1 in /home/huangsixing/anaconda3/envs/pytorch/lib/python3.9/site-packages (from spacy<4.0,>=3.1.0->crosslingual-coreference) (0.9.1)\n",
      "Requirement already satisfied: catalogue<2.1.0,>=2.0.6 in /home/huangsixing/anaconda3/envs/pytorch/lib/python3.9/site-packages (from spacy<4.0,>=3.1.0->crosslingual-coreference) (2.0.6)\n",
      "Requirement already satisfied: jinja2 in /home/huangsixing/anaconda3/envs/pytorch/lib/python3.9/site-packages (from spacy<4.0,>=3.1.0->crosslingual-coreference) (3.1.1)\n",
      "Requirement already satisfied: pathy>=0.3.5 in /home/huangsixing/anaconda3/envs/pytorch/lib/python3.9/site-packages (from spacy<4.0,>=3.1.0->crosslingual-coreference) (0.6.1)\n",
      "Requirement already satisfied: blis<0.8.0,>=0.4.0 in /home/huangsixing/anaconda3/envs/pytorch/lib/python3.9/site-packages (from spacy<4.0,>=3.1.0->crosslingual-coreference) (0.7.4)\n",
      "Requirement already satisfied: smart-open<6.0.0,>=5.0.0 in /home/huangsixing/anaconda3/envs/pytorch/lib/python3.9/site-packages (from pathy>=0.3.5->spacy<4.0,>=3.1.0->crosslingual-coreference) (5.2.1)\n",
      "Requirement already satisfied: pillow!=8.3.0,>=5.3.0 in /home/huangsixing/anaconda3/envs/pytorch/lib/python3.9/site-packages (from torchvision<0.12.0->crosslingual-coreference) (9.0.1)\n",
      "Requirement already satisfied: sacremoses in /home/huangsixing/anaconda3/envs/pytorch/lib/python3.9/site-packages (from transformers<4.19,>=4.1->allennlp<3.0,>=2.8->crosslingual-coreference) (0.0.49)\n",
      "Requirement already satisfied: tokenizers<0.11,>=0.10.1 in /home/huangsixing/anaconda3/envs/pytorch/lib/python3.9/site-packages (from transformers<4.19,>=4.1->allennlp<3.0,>=2.8->crosslingual-coreference) (0.10.3)\n",
      "Requirement already satisfied: promise<3,>=2.0 in /home/huangsixing/anaconda3/envs/pytorch/lib/python3.9/site-packages (from wandb<0.13.0,>=0.10.0->allennlp<3.0,>=2.8->crosslingual-coreference) (2.3)\n",
      "Requirement already satisfied: sentry-sdk>=1.0.0 in /home/huangsixing/anaconda3/envs/pytorch/lib/python3.9/site-packages (from wandb<0.13.0,>=0.10.0->allennlp<3.0,>=2.8->crosslingual-coreference) (1.5.10)\n",
      "Requirement already satisfied: pathtools in /home/huangsixing/anaconda3/envs/pytorch/lib/python3.9/site-packages (from wandb<0.13.0,>=0.10.0->allennlp<3.0,>=2.8->crosslingual-coreference) (0.1.2)\n",
      "Requirement already satisfied: GitPython>=1.0.0 in /home/huangsixing/anaconda3/envs/pytorch/lib/python3.9/site-packages (from wandb<0.13.0,>=0.10.0->allennlp<3.0,>=2.8->crosslingual-coreference) (3.1.27)\n",
      "Requirement already satisfied: shortuuid>=0.5.0 in /home/huangsixing/anaconda3/envs/pytorch/lib/python3.9/site-packages (from wandb<0.13.0,>=0.10.0->allennlp<3.0,>=2.8->crosslingual-coreference) (1.0.8)\n",
      "Requirement already satisfied: psutil>=5.0.0 in /home/huangsixing/anaconda3/envs/pytorch/lib/python3.9/site-packages (from wandb<0.13.0,>=0.10.0->allennlp<3.0,>=2.8->crosslingual-coreference) (5.8.0)\n",
      "Requirement already satisfied: setproctitle in /home/huangsixing/anaconda3/envs/pytorch/lib/python3.9/site-packages (from wandb<0.13.0,>=0.10.0->allennlp<3.0,>=2.8->crosslingual-coreference) (1.2.3)\n",
      "Requirement already satisfied: docker-pycreds>=0.4.0 in /home/huangsixing/anaconda3/envs/pytorch/lib/python3.9/site-packages (from wandb<0.13.0,>=0.10.0->allennlp<3.0,>=2.8->crosslingual-coreference) (0.4.0)\n",
      "Requirement already satisfied: gitdb<5,>=4.0.1 in /home/huangsixing/anaconda3/envs/pytorch/lib/python3.9/site-packages (from GitPython>=1.0.0->wandb<0.13.0,>=0.10.0->allennlp<3.0,>=2.8->crosslingual-coreference) (4.0.9)\n",
      "Requirement already satisfied: smmap<6,>=3.0.1 in /home/huangsixing/anaconda3/envs/pytorch/lib/python3.9/site-packages (from gitdb<5,>=4.0.1->GitPython>=1.0.0->wandb<0.13.0,>=0.10.0->allennlp<3.0,>=2.8->crosslingual-coreference) (5.0.0)\n",
      "Requirement already satisfied: responses<0.19 in /home/huangsixing/anaconda3/envs/pytorch/lib/python3.9/site-packages (from datasets->allennlp-models<3.0,>=2.8->crosslingual-coreference) (0.18.0)\n",
      "Requirement already satisfied: fsspec[http]>=2021.05.0 in /home/huangsixing/anaconda3/envs/pytorch/lib/python3.9/site-packages (from datasets->allennlp-models<3.0,>=2.8->crosslingual-coreference) (2022.3.0)\n",
      "Requirement already satisfied: xxhash in /home/huangsixing/anaconda3/envs/pytorch/lib/python3.9/site-packages (from datasets->allennlp-models<3.0,>=2.8->crosslingual-coreference) (3.0.0)\n",
      "Requirement already satisfied: pandas in /home/huangsixing/anaconda3/envs/pytorch/lib/python3.9/site-packages (from datasets->allennlp-models<3.0,>=2.8->crosslingual-coreference) (1.4.2)\n",
      "Requirement already satisfied: multiprocess in /home/huangsixing/anaconda3/envs/pytorch/lib/python3.9/site-packages (from datasets->allennlp-models<3.0,>=2.8->crosslingual-coreference) (0.70.12.2)\n",
      "Requirement already satisfied: aiohttp in /home/huangsixing/anaconda3/envs/pytorch/lib/python3.9/site-packages (from datasets->allennlp-models<3.0,>=2.8->crosslingual-coreference) (3.8.1)\n",
      "Requirement already satisfied: pyarrow>=5.0.0 in /home/huangsixing/anaconda3/envs/pytorch/lib/python3.9/site-packages (from datasets->allennlp-models<3.0,>=2.8->crosslingual-coreference) (7.0.0)\n",
      "Requirement already satisfied: multidict<7.0,>=4.5 in /home/huangsixing/anaconda3/envs/pytorch/lib/python3.9/site-packages (from aiohttp->datasets->allennlp-models<3.0,>=2.8->crosslingual-coreference) (6.0.2)\n",
      "Requirement already satisfied: yarl<2.0,>=1.0 in /home/huangsixing/anaconda3/envs/pytorch/lib/python3.9/site-packages (from aiohttp->datasets->allennlp-models<3.0,>=2.8->crosslingual-coreference) (1.7.2)\n",
      "Requirement already satisfied: attrs>=17.3.0 in /home/huangsixing/anaconda3/envs/pytorch/lib/python3.9/site-packages (from aiohttp->datasets->allennlp-models<3.0,>=2.8->crosslingual-coreference) (21.4.0)\n",
      "Requirement already satisfied: aiosignal>=1.1.2 in /home/huangsixing/anaconda3/envs/pytorch/lib/python3.9/site-packages (from aiohttp->datasets->allennlp-models<3.0,>=2.8->crosslingual-coreference) (1.2.0)\n",
      "Requirement already satisfied: frozenlist>=1.1.1 in /home/huangsixing/anaconda3/envs/pytorch/lib/python3.9/site-packages (from aiohttp->datasets->allennlp-models<3.0,>=2.8->crosslingual-coreference) (1.3.0)\n",
      "Requirement already satisfied: async-timeout<5.0,>=4.0.0a3 in /home/huangsixing/anaconda3/envs/pytorch/lib/python3.9/site-packages (from aiohttp->datasets->allennlp-models<3.0,>=2.8->crosslingual-coreference) (4.0.2)\n",
      "Requirement already satisfied: wcwidth>=0.2.5 in /home/huangsixing/anaconda3/envs/pytorch/lib/python3.9/site-packages (from ftfy->allennlp-models<3.0,>=2.8->crosslingual-coreference) (0.2.5)\n",
      "Requirement already satisfied: MarkupSafe>=2.0 in /home/huangsixing/anaconda3/envs/pytorch/lib/python3.9/site-packages (from jinja2->spacy<4.0,>=3.1.0->crosslingual-coreference) (2.0.1)\n",
      "Requirement already satisfied: pytz>=2020.1 in /home/huangsixing/anaconda3/envs/pytorch/lib/python3.9/site-packages (from pandas->datasets->allennlp-models<3.0,>=2.8->crosslingual-coreference) (2022.1)\n",
      "Requirement already satisfied: pluggy<2.0,>=0.12 in /home/huangsixing/anaconda3/envs/pytorch/lib/python3.9/site-packages (from pytest->allennlp<3.0,>=2.8->crosslingual-coreference) (1.0.0)\n",
      "Requirement already satisfied: tomli>=1.0.0 in /home/huangsixing/anaconda3/envs/pytorch/lib/python3.9/site-packages (from pytest->allennlp<3.0,>=2.8->crosslingual-coreference) (2.0.1)\n",
      "Requirement already satisfied: iniconfig in /home/huangsixing/anaconda3/envs/pytorch/lib/python3.9/site-packages (from pytest->allennlp<3.0,>=2.8->crosslingual-coreference) (1.1.1)\n",
      "Requirement already satisfied: py>=1.8.2 in /home/huangsixing/anaconda3/envs/pytorch/lib/python3.9/site-packages (from pytest->allennlp<3.0,>=2.8->crosslingual-coreference) (1.11.0)\n",
      "Requirement already satisfied: threadpoolctl>=2.0.0 in /home/huangsixing/anaconda3/envs/pytorch/lib/python3.9/site-packages (from scikit-learn->allennlp<3.0,>=2.8->crosslingual-coreference) (3.1.0)\n"
     ]
    }
   ],
   "source": [
    "!pip install crosslingual-coreference"
   ]
  },
  {
   "cell_type": "code",
   "execution_count": 5,
   "metadata": {},
   "outputs": [],
   "source": [
    "from crosslingual_coreference import Predictor\n",
    "\n"
   ]
  },
  {
   "cell_type": "code",
   "execution_count": 6,
   "metadata": {},
   "outputs": [
    {
     "name": "stdout",
     "output_type": "stream",
     "text": [
      "\n",
      "    The effects of retinoic acid (RA), a common morphogen and gene expression regulator in vertebrates, were studied in the freshwater sponge Ephydatia muelleri, both on morphogenesis and on the expression of EmH-3 homeobox-containing gene. At 0.3 microM, retinoic acid (RA), a common morphogen and gene expression regulator in vertebrates had no noticeable influence on sponge development, slightly up-regulating EmH-3 expression. In contrast, in sponges reared in 10, 8 microM and to a lesser extent 2 microM RA, there was a strong down-regulation of EmH-3 expression after hatching. a strong down-regulation of EmH-3 expression after hatching induced modifications in cell composition and morphology, greatly disturbing normal development. Archaeocytes kept the features found in newly hatched sponges while choanocytes and a functional aquiferous system were completely absent. The inhibition of morphogenesis and down-regulation of EmH-3 expression were reversible when sponges were no longer subjected to retinoic acid (RA), a common morphogen and gene expression regulator in vertebrates. After retinoic acid (RA), a common morphogen and gene expression regulator in vertebrates removal, EmH-3 expression returned to the high values found in untreated sponges, archaeocytes differentiated into choanocytes and sponges achieved a normal development. These results clearly show that, in freshwater sponges, the most primitive metazoan, retinoic acid (RA), a common morphogen and gene expression regulator in vertebrates may also act as a morphogen, regulating the expression of a homeobox-containing gene. These results demonstrate that the expression of EmH-3 is necessary for the differentiation of archaeocytes into choanocytes and hence for the formation of a complete functional aquiferous system. \n",
      "    \n"
     ]
    }
   ],
   "source": [
    "text = (\n",
    "    \"\"\"\n",
    "    The effects of retinoic acid (RA), a common morphogen and gene expression regulator in vertebrates, were studied in the freshwater sponge Ephydatia muelleri, both on morphogenesis and on the expression of EmH-3 homeobox-containing gene. At 0.3 microM, RA had no noticeable influence on sponge development, slightly up-regulating EmH-3 expression. In contrast, in sponges reared in 10, 8 microM and to a lesser extent 2 microM RA, there was a strong down-regulation of EmH-3 expression after hatching. This induced modifications in cell composition and morphology, greatly disturbing normal development. Archaeocytes kept the features found in newly hatched sponges while choanocytes and a functional aquiferous system were completely absent. The inhibition of morphogenesis and down-regulation of EmH-3 expression were reversible when sponges were no longer subjected to RA. After RA removal, EmH-3 expression returned to the high values found in untreated sponges, archaeocytes differentiated into choanocytes and sponges achieved a normal development. These results clearly show that, in freshwater sponges, the most primitive metazoan, RA may also act as a morphogen, regulating the expression of a homeobox-containing gene. They demonstrate that the expression of EmH-3 is necessary for the differentiation of archaeocytes into choanocytes and hence for the formation of a complete functional aquiferous system. \n",
    "    \"\"\"\n",
    ")\n",
    "\n",
    "predictor = Predictor(\n",
    "    language=\"en_core_web_sm\", device=-1, model_name=\"info_xlm\"\n",
    ")\n",
    "\n",
    "print(predictor.predict(text)[\"resolved_text\"])"
   ]
  },
  {
   "cell_type": "code",
   "execution_count": 8,
   "metadata": {},
   "outputs": [
    {
     "name": "stdout",
     "output_type": "stream",
     "text": [
      "\n",
      "    Estrogen exerts complex physiologic effects on brain functions which could partly be mediated through modulation of the dopaminergic system. Transcription control of the human D1A dopamine receptor gene by estrogenic stimulation was studied in the D1A expressing neuroblastoma cell line SK-N-MC. Transient co-transfection of the human D1A dopamine receptor gene promoter-CAT constructs along with expression vectors for steroid hormone receptors indicated that estrogen, but not progesterone or glucocorticoid, receptors up-regulate transcription of the human D1A dopamine receptor gene by about 1.7-fold. \n",
      "    \n"
     ]
    }
   ],
   "source": [
    "text = (\n",
    "    \"\"\"\n",
    "    Estrogen exerts complex physiologic effects on brain functions which could partly be mediated through modulation of the dopaminergic system. Transcription control of the human D1A dopamine receptor gene by estrogenic stimulation was studied in the D1A expressing neuroblastoma cell line SK-N-MC. Transient co-transfection of D1A gene promoter-CAT constructs along with expression vectors for steroid hormone receptors indicated that estrogen, but not progesterone or glucocorticoid, receptors up-regulate transcription of this gene by about 1.7-fold. \n",
    "    \"\"\"\n",
    ")\n",
    "\n",
    "predictor = Predictor(\n",
    "    language=\"en_core_web_sm\", device=-1, model_name=\"info_xlm\"\n",
    ")\n",
    "\n",
    "print(predictor.predict(text)[\"resolved_text\"])"
   ]
  },
  {
   "cell_type": "code",
   "execution_count": 9,
   "metadata": {},
   "outputs": [
    {
     "name": "stdout",
     "output_type": "stream",
     "text": [
      "\n",
      "    The first gene that was tested in modulating antisense RNA-mediated gene regulation in the present model was the S.pombe transcription factor thi1. As expected, overexpression of the S.pombe transcription factor thi1 up-regulated nmt1-driven antisense lacZ transcription.\n",
      "    \n"
     ]
    }
   ],
   "source": [
    "text = (\n",
    "    \"\"\"\n",
    "    The first gene that was tested in modulating antisense RNA-mediated gene regulation in the present model was the S.pombe transcription factor thi1. As expected, overexpression of this gene up-regulated nmt1-driven antisense lacZ transcription.\n",
    "    \"\"\"\n",
    ")\n",
    "\n",
    "predictor = Predictor(\n",
    "    language=\"en_core_web_sm\", device=-1, model_name=\"info_xlm\"\n",
    ")\n",
    "\n",
    "print(predictor.predict(text)[\"resolved_text\"])"
   ]
  },
  {
   "cell_type": "code",
   "execution_count": 10,
   "metadata": {},
   "outputs": [
    {
     "name": "stdout",
     "output_type": "stream",
     "text": [
      "\n",
      "    TSC22D3, also known as glucocorticoid-induced leucine zipper protein (GILZ), is expressed in a variety of mammalian cells. According to a recent report, TSC22D3, also known as glucocorticoid-induced leucine zipper protein (GILZ) up-regulated cyclin D1 and phosphorylated retinoblastoma, down-regulated cyclin-dependent kinase inhibitor p21, and promoted entry into the S phase of the cell cycle in epithelial ovarian cancer HCCs are hypervascular tumors and angiogenesis plays a crucial role in the process of neoplasia (25).\n",
      "    \n"
     ]
    }
   ],
   "source": [
    "text = (\n",
    "    \"\"\"\n",
    "    TSC22D3, also known as glucocorticoid-induced leucine zipper protein (GILZ), is expressed in a variety of mammalian cells. According to a recent report, this gene up-regulated cyclin D1 and phosphorylated retinoblastoma, down-regulated cyclin-dependent kinase inhibitor p21, and promoted entry into the S phase of the cell cycle in epithelial ovarian cancer HCCs are hypervascular tumors and angiogenesis plays a crucial role in the process of neoplasia (25).\n",
    "    \"\"\"\n",
    ")\n",
    "\n",
    "predictor = Predictor(\n",
    "    language=\"en_core_web_sm\", device=-1, model_name=\"info_xlm\"\n",
    ")\n",
    "\n",
    "print(predictor.predict(text)[\"resolved_text\"])"
   ]
  },
  {
   "cell_type": "code",
   "execution_count": 11,
   "metadata": {},
   "outputs": [
    {
     "name": "stdout",
     "output_type": "stream",
     "text": [
      "\n",
      "The analysis of this gene mRNA accumulation after blue light irradiation showed that the expression of this gene is up-regulated by blue light, as happens with the other structural genes involved in carotenogenesis in M. circinelloides.\n",
      "    \n"
     ]
    }
   ],
   "source": [
    "text = (\n",
    "    \"\"\"\n",
    "The analysis of carG mRNA accumulation after blue light irradiation showed that the expression of this gene is up-regulated by blue light, as happens with the other structural genes involved in carotenogenesis in M. circinelloides.\n",
    "    \"\"\"\n",
    ")\n",
    "\n",
    "predictor = Predictor(\n",
    "    language=\"en_core_web_sm\", device=-1, model_name=\"info_xlm\"\n",
    ")\n",
    "\n",
    "print(predictor.predict(text)[\"resolved_text\"])"
   ]
  },
  {
   "cell_type": "code",
   "execution_count": 12,
   "metadata": {},
   "outputs": [
    {
     "name": "stdout",
     "output_type": "stream",
     "text": [
      "\n",
      "In chicken, adiposity is influenced by hepatic stearoyl-CoA desaturase (SCD) 1. hepatic stearoyl-CoA desaturase (SCD) 1 is up-regulated by low-fat high-carbohydrate diet and down-regulated by addition of polyunsaturated fatty acids (PUFA).\n",
      "    \n"
     ]
    }
   ],
   "source": [
    "text = (\n",
    "    \"\"\"\n",
    "In chicken, adiposity is influenced by hepatic stearoyl-CoA desaturase (SCD) 1. This gene is up-regulated by low-fat high-carbohydrate diet and down-regulated by addition of polyunsaturated fatty acids (PUFA).\n",
    "    \"\"\"\n",
    ")\n",
    "\n",
    "predictor = Predictor(\n",
    "    language=\"en_core_web_sm\", device=-1, model_name=\"info_xlm\"\n",
    ")\n",
    "\n",
    "print(predictor.predict(text)[\"resolved_text\"])"
   ]
  },
  {
   "cell_type": "code",
   "execution_count": null,
   "metadata": {},
   "outputs": [],
   "source": []
  }
 ],
 "metadata": {
  "interpreter": {
   "hash": "f81f0d68aa616264854b7a0d1439d3778ab03801ab2a24c8ee0f261f8a533668"
  },
  "kernelspec": {
   "display_name": "Python 3.9.12 ('pytorch')",
   "language": "python",
   "name": "python3"
  },
  "language_info": {
   "codemirror_mode": {
    "name": "ipython",
    "version": 3
   },
   "file_extension": ".py",
   "mimetype": "text/x-python",
   "name": "python",
   "nbconvert_exporter": "python",
   "pygments_lexer": "ipython3",
   "version": "3.9.12"
  },
  "orig_nbformat": 4
 },
 "nbformat": 4,
 "nbformat_minor": 2
}
