{
 "cells": [
  {
   "cell_type": "code",
   "execution_count": 11,
   "metadata": {},
   "outputs": [],
   "source": [
    "from transformers import AutoTokenizer, AutoModelForTokenClassification, pipeline\n",
    "import spacy\n",
    "import sys\n",
    "import gpt3\n",
    "import cross_coref\n",
    "import entity_linkage\n",
    "from pathlib import Path\n",
    "import csv"
   ]
  },
  {
   "cell_type": "code",
   "execution_count": 2,
   "metadata": {},
   "outputs": [],
   "source": [
    "tokenizer = AutoTokenizer.from_pretrained(\"pucpr/clinicalnerpt-chemical\")\n",
    "\n",
    "model = AutoModelForTokenClassification.from_pretrained(\"pucpr/clinicalnerpt-chemical\")\n",
    "\n",
    "model_infer = pipeline('ner',model=model,tokenizer=tokenizer)\n",
    "\n",
    "nlp = spacy.load(\"en_core_web_sm\")"
   ]
  },
  {
   "cell_type": "code",
   "execution_count": 3,
   "metadata": {},
   "outputs": [
    {
     "data": {
      "text/plain": [
       "['gh',\n",
       " 'pl',\n",
       " 'ce',\n",
       " 'glycoside hydrolase',\n",
       " 'polysaccharide lyase',\n",
       " 'carbohydrate esterase']"
      ]
     },
     "execution_count": 3,
     "metadata": {},
     "output_type": "execute_result"
    }
   ],
   "source": [
    "verb_file = \"cazy_keywords.txt\"\n",
    "verbs = open(verb_file).read().split(\"\\n\")\n",
    "verbs"
   ]
  },
  {
   "cell_type": "code",
   "execution_count": 12,
   "metadata": {},
   "outputs": [],
   "source": [
    "cache = {}\n",
    "local_cache_file = \"./cache.tsv\"\n",
    "with open(local_cache_file, newline='') as csvfile:\n",
    "    name_mapping = csv.reader(csvfile, delimiter='\\t')\n",
    "    for row in name_mapping:\n",
    "        if len(row) == 2:\n",
    "            cache[row[0]] = row[1]"
   ]
  },
  {
   "cell_type": "code",
   "execution_count": 14,
   "metadata": {},
   "outputs": [],
   "source": [
    "#input_file = \"./cazy/example_2.txt\"\n",
    "\n",
    "content = f\"doi\\tprimary\\tcazy\\taction\\tsubstrate\\n\"\n",
    "\n",
    "pathlist = Path(\"./cazy/\").glob('*.txt')\n",
    "for input_file in pathlist:\n",
    "    #print (input_file)\n",
    "    with open(input_file, 'r', newline=\"\", encoding='utf-8') as infile:\n",
    "\n",
    "        for line in infile:\n",
    "            fields = line.strip().split(\"|\")\n",
    "            doi = fields[0]\n",
    "            is_primary = fields[1]\n",
    "            raw_text = fields[2]\n",
    "\n",
    "            sentences = (cross_coref.resolve_pronoun(raw_text))\n",
    "\n",
    "            doc = nlp(sentences)\n",
    "            assert doc.has_annotation(\"SENT_START\")\n",
    "            for sent in doc.sents:\n",
    "                has_verb = False\n",
    "                for v in verbs:\n",
    "                    if v in sent.text.lower():\n",
    "                        has_verb = True\n",
    "                #print (has_verb)\n",
    "\n",
    "                if has_verb == True:\n",
    "                \n",
    "                    entities = model_infer(sent.text)\n",
    "                    #print (entities)\n",
    "\n",
    "                    ### need to recognize some concepts that fall through the cracks of huggingface\n",
    "                    found_chemical_in_cache = False\n",
    "                    for key in cache:\n",
    "                        if key in sent.text:\n",
    "                            found_chemical_in_cache = True\n",
    "\n",
    "                    if len(entities) > 0 or found_chemical_in_cache == True:\n",
    "                        #print (f'\"{sent.text.strip()}\"')\n",
    "                        res = gpt3.extract_relation(\"gpt3_training_cazy.txt\", sent.text.strip() + \"\\n\").split(\"\\n\")\n",
    "                        \n",
    "                        #print(res)\n",
    "\n",
    "                        for r in res:\n",
    "                            results = r.split(\"|\")\n",
    "                            temp_content = \"\"\n",
    "                            if len(results) == 3:\n",
    "                                #print (\"hello\")\n",
    "                                #print (f\"{doi}|{is_primary}|{results[0]}|{results[1]}|{results[2]}\")\n",
    "                                #print (\"results[1]\", results[1])\n",
    "                                disam = entity_linkage.name_disambiguation(results[2])\n",
    "                                if disam != \"\":\n",
    "                                    results[2] = disam\n",
    "\n",
    "                                temp_content = f'{doi}|{is_primary}|' + \"|\".join(results) + \"\\n\"\n",
    "                            content += temp_content + \"\\n\""
   ]
  },
  {
   "cell_type": "code",
   "execution_count": 15,
   "metadata": {},
   "outputs": [],
   "source": [
    "activity_output = open(\"cazy_literature_extract.tsv\", 'w+')\n",
    "activity_output.write(content)\n",
    "activity_output.close()"
   ]
  },
  {
   "cell_type": "code",
   "execution_count": null,
   "metadata": {},
   "outputs": [],
   "source": []
  }
 ],
 "metadata": {
  "interpreter": {
   "hash": "a5a42fb8fac18d5d996f62d59b57d895ef05d83ddcd056098bb0239e44336ef0"
  },
  "kernelspec": {
   "display_name": "Python 3.8.13 ('pytorch')",
   "language": "python",
   "name": "python3"
  },
  "language_info": {
   "codemirror_mode": {
    "name": "ipython",
    "version": 3
   },
   "file_extension": ".py",
   "mimetype": "text/x-python",
   "name": "python",
   "nbconvert_exporter": "python",
   "pygments_lexer": "ipython3",
   "version": "3.8.13"
  },
  "orig_nbformat": 4
 },
 "nbformat": 4,
 "nbformat_minor": 2
}
