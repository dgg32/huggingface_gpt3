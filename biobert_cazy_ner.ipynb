{
 "cells": [
  {
   "cell_type": "code",
   "execution_count": 1,
   "metadata": {},
   "outputs": [
    {
     "name": "stderr",
     "output_type": "stream",
     "text": [
      "[nltk_data] Downloading package omw-1.4 to\n",
      "[nltk_data]     C:\\Users\\dgg32\\AppData\\Roaming\\nltk_data...\n",
      "[nltk_data]   Package omw-1.4 is already up-to-date!\n",
      "error loading _jsonnet (this is expected on Windows), treating C:\\Users\\dgg32\\AppData\\Local\\Temp\\tmp6sv681bw\\config.json as plain json\n",
      "Some weights of the model checkpoint at microsoft/infoxlm-base were not used when initializing XLMRobertaModel: ['lm_head.layer_norm.weight', 'lm_head.decoder.weight', 'lm_head.layer_norm.bias', 'lm_head.dense.bias', 'lm_head.bias', 'lm_head.dense.weight']\n",
      "- This IS expected if you are initializing XLMRobertaModel from the checkpoint of a model trained on another task or with another architecture (e.g. initializing a BertForSequenceClassification model from a BertForPreTraining model).\n",
      "- This IS NOT expected if you are initializing XLMRobertaModel from the checkpoint of a model that you expect to be exactly identical (initializing a BertForSequenceClassification model from a BertForSequenceClassification model).\n"
     ]
    }
   ],
   "source": [
    "from transformers import AutoTokenizer, AutoModelForTokenClassification, pipeline\n",
    "import spacy\n",
    "import sys\n",
    "import gpt3\n",
    "import cross_coref\n",
    "import entity_linkage"
   ]
  },
  {
   "cell_type": "code",
   "execution_count": 2,
   "metadata": {},
   "outputs": [],
   "source": [
    "tokenizer = AutoTokenizer.from_pretrained(\"pucpr/clinicalnerpt-chemical\")\n",
    "\n",
    "model = AutoModelForTokenClassification.from_pretrained(\"pucpr/clinicalnerpt-chemical\")\n",
    "\n",
    "model_infer = pipeline('ner',model=model,tokenizer=tokenizer)\n",
    "\n",
    "nlp = spacy.load(\"en_core_web_sm\")"
   ]
  },
  {
   "cell_type": "code",
   "execution_count": 3,
   "metadata": {},
   "outputs": [
    {
     "data": {
      "text/plain": [
       "['gh',\n",
       " 'pl',\n",
       " 'ce',\n",
       " 'glycoside hydrolase',\n",
       " 'polysaccharide lyase',\n",
       " 'carbohydrate esterase']"
      ]
     },
     "execution_count": 3,
     "metadata": {},
     "output_type": "execute_result"
    }
   ],
   "source": [
    "verb_file = \"cazy_keywords.txt\"\n",
    "verbs = open(verb_file).read().split(\"\\n\")\n",
    "verbs"
   ]
  },
  {
   "cell_type": "code",
   "execution_count": 13,
   "metadata": {},
   "outputs": [
    {
     "name": "stdout",
     "output_type": "stream",
     "text": [
      "10.1074/jbc.RA120.015328,1,GH5_4,degrades,xyloglucan endotransglycosylase \n",
      "10.1074/jbc.RA120.015328,1,GH5_4,degrades,(1-6)-alpha-glucomannan \n",
      "10.1074/jbc.RA120.015328,1,GH5_4,degrades,beta-Glucans\n",
      "10.1074/jbc.RA120.015328,1,GH5_4,degrades,Cellulose\n",
      "10.1074/jbc.RA120.015328,1,GH5_4,degrades,Mannans\n",
      "10.1074/jbc.RA120.015328,1,GH5_4,degrades,Xylans\n"
     ]
    }
   ],
   "source": [
    "input_file = \"./cazy/example_2.txt\"\n",
    "\n",
    "with open(input_file, 'r', newline=\"\", encoding='utf-8') as infile:\n",
    "\n",
    "    for line in infile:\n",
    "        fields = line.strip().split(\"|\")\n",
    "        doi = fields[0]\n",
    "        is_primary = fields[1]\n",
    "        raw_text = fields[2]\n",
    "\n",
    "        sentences = (cross_coref.resolve_pronoun(raw_text))\n",
    "\n",
    "        doc = nlp(sentences)\n",
    "        assert doc.has_annotation(\"SENT_START\")\n",
    "        for sent in doc.sents:\n",
    "            has_verb = False\n",
    "            for v in verbs:\n",
    "                if v in sent.text.lower():\n",
    "                    has_verb = True\n",
    "            #print (has_verb)\n",
    "\n",
    "            if has_verb == True:\n",
    "            \n",
    "                entities = model_infer(sent.text)\n",
    "                #print (entities)\n",
    "                if len(entities) > 0:\n",
    "                    #print (f'\"{sent.text.strip()}\"')\n",
    "                    res = gpt3.extract_relation(\"gpt3_training_cazy.txt\", sent.text.strip() + \"\\n\").split(\"\\n\")\n",
    "                    \n",
    "                    #print(res)\n",
    "\n",
    "                    for r in res:\n",
    "                        results = r.split(\",\")\n",
    "                        #print (results)\n",
    "                        if len(results) == 3:\n",
    "                            #print (\"hello\")\n",
    "                            #print (f\"{doi}|{is_primary}|{results[0]}|{results[1]}|{results[2]}\")\n",
    "                            disam = entity_linkage.name_disambiguation(results[2])\n",
    "                            results[2] = disam\n",
    "\n",
    "                            print (f\"{doi},{is_primary},\" + \",\".join(results))"
   ]
  },
  {
   "cell_type": "code",
   "execution_count": null,
   "metadata": {},
   "outputs": [],
   "source": []
  }
 ],
 "metadata": {
  "interpreter": {
   "hash": "a5a42fb8fac18d5d996f62d59b57d895ef05d83ddcd056098bb0239e44336ef0"
  },
  "kernelspec": {
   "display_name": "Python 3.8.13 ('pytorch')",
   "language": "python",
   "name": "python3"
  },
  "language_info": {
   "codemirror_mode": {
    "name": "ipython",
    "version": 3
   },
   "file_extension": ".py",
   "mimetype": "text/x-python",
   "name": "python",
   "nbconvert_exporter": "python",
   "pygments_lexer": "ipython3",
   "version": "3.8.13"
  },
  "orig_nbformat": 4
 },
 "nbformat": 4,
 "nbformat_minor": 2
}
