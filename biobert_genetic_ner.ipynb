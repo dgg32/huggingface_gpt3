{
 "cells": [
  {
   "cell_type": "code",
   "execution_count": 7,
   "metadata": {},
   "outputs": [],
   "source": [
    "from transformers import AutoTokenizer, AutoModelForTokenClassification, pipeline\n",
    "import spacy\n",
    "import sys\n",
    "import gpt3\n",
    "import cross_coref"
   ]
  },
  {
   "cell_type": "code",
   "execution_count": 8,
   "metadata": {},
   "outputs": [],
   "source": [
    "\n",
    "tokenizer = AutoTokenizer.from_pretrained(\"alvaroalon2/biobert_genetic_ner\")\n",
    "\n",
    "model = AutoModelForTokenClassification.from_pretrained(\"alvaroalon2/biobert_genetic_ner\")\n",
    "\n",
    "model_infer = pipeline('ner',model=model,tokenizer=tokenizer)\n",
    "\n",
    "nlp = spacy.load(\"en_core_web_sm\")"
   ]
  },
  {
   "cell_type": "code",
   "execution_count": 9,
   "metadata": {},
   "outputs": [
    {
     "data": {
      "text/plain": [
       "['up', 'promot', 'down', 'suppress', 'overexpress']"
      ]
     },
     "execution_count": 9,
     "metadata": {},
     "output_type": "execute_result"
    }
   ],
   "source": [
    "verb_file = \"gene_regulation_verbs.txt\"\n",
    "verbs = open(verb_file).read().split(\"\\n\")\n",
    "verbs"
   ]
  },
  {
   "cell_type": "code",
   "execution_count": 13,
   "metadata": {},
   "outputs": [
    {
     "name": "stdout",
     "output_type": "stream",
     "text": [
      "\"At 0.3 microM, retinoic acid (RA), a common morphogen and gene expression regulator in vertebrates had no noticeable influence on sponge development, slightly up-regulating EmH-3 expression.\"\n",
      "retinoic acid,upregulate,EmH-3\n",
      "\"In contrast, in sponges reared in 10, 8 microM and to a lesser extent 2 microM RA, there was a strong down-regulation of EmH-3 expression after hatching.\"\n",
      "RA,downregulate,EmH-3\n",
      "\"a strong down-regulation of EmH-3 expression after hatching induced modifications in cell composition and morphology, greatly disturbing normal development.\"\n",
      "#DNMT1,downregulate,EmH-3\n",
      "\"The inhibition of morphogenesis and down-regulation of EmH-3 expression were reversible when sponges were no longer subjected to retinoic acid (RA), a common morphogen and gene expression regulator in vertebrates.\"\n",
      "retinoic acid,downregulate,EmH-3\n"
     ]
    }
   ],
   "source": [
    "input_file = \"example_gene_regulation.txt\"\n",
    "\n",
    "\n",
    "raw_text = open(input_file).read()\n",
    "\n",
    "sentences = (cross_coref.resolve_pronoun(raw_text))\n",
    "\n",
    "doc = nlp(sentences)\n",
    "assert doc.has_annotation(\"SENT_START\")\n",
    "for sent in doc.sents:\n",
    "    #print(sent.text)\n",
    "    entities = model_infer(sent.text)\n",
    "    if len(entities) > 0:\n",
    "        has_verb = False\n",
    "        for v in verbs:\n",
    "            if v in sent.text:\n",
    "                has_verb = True\n",
    "        \n",
    "        if has_verb == True:\n",
    "\n",
    "            print (f'\"{sent.text.strip()}\"')\n",
    "\n",
    "            res = gpt3.extract_relation(\"gpt3_training_gene_regulation.txt\", sent.text.strip() + \"\\n\")\n",
    "            print(res)\n",
    "    \n"
   ]
  },
  {
   "cell_type": "code",
   "execution_count": 11,
   "metadata": {},
   "outputs": [
    {
     "name": "stdout",
     "output_type": "stream",
     "text": [
      "\"The result suggested that mutant p53 could substitute for bcl-2 function in breast cancer cells and that could also down-regulate bcl-2 expression.\"\n",
      "mutant p53,downregulate,bcl-2\n",
      "\"We found, indeed, that overexpression of a mutant p53 (mut 175) in MCF-7 cells could induce down-regulation of bcl-2 both at protein and mRNA level.\"\n",
      "mutant p53,downregulate,bcl-2\n",
      "\"However, the promoter region of the human bcl-2 gene does not contain the negative regulatory element responsible for down-regulation of bcl-2.\"\n",
      "So, the answer is:\n",
      "\n",
      "There is no one definitive answer to this question.\n",
      "\"If this mechanism will be proved also for the wild-type p53 allele, this mechanism may disclose a possible mechanism for p53-induced apoptosis: down-regulation of bcl-2.\"\n",
      "p53,downregulate,bcl-2\n"
     ]
    }
   ],
   "source": [
    "input_file = \"example_gene_regulation_2.txt\"\n",
    "\n",
    "raw_text = open(input_file).read()\n",
    "\n",
    "sentences = (cross_coref.resolve_pronoun(raw_text))\n",
    "\n",
    "doc = nlp(sentences)\n",
    "assert doc.has_annotation(\"SENT_START\")\n",
    "for sent in doc.sents:\n",
    "    #print(sent.text)\n",
    "    entities = model_infer(sent.text)\n",
    "    if len(entities) > 0:\n",
    "        has_verb = False\n",
    "        for v in verbs:\n",
    "            if v in sent.text:\n",
    "                has_verb = True\n",
    "        \n",
    "        if has_verb == True:\n",
    "\n",
    "            print (f'\"{sent.text.strip()}\"')\n",
    "\n",
    "            res = gpt3.extract_relation(\"gpt3_training_gene_regulation.txt\", sent.text.strip() + \"\\n\")\n",
    "            print(res)"
   ]
  },
  {
   "cell_type": "code",
   "execution_count": 12,
   "metadata": {},
   "outputs": [
    {
     "name": "stdout",
     "output_type": "stream",
     "text": [
      "\"hepatic stearoyl-CoA desaturase (SCD) 1 is up-regulated by low-fat high-carbohydrate diet and down-regulated by addition of polyunsaturated fatty acids (PUFA).\"\n",
      "low-fat high-carbohydrate diet,upregulate,SCD1\n",
      "\n",
      "addition of PUFA,downregulate,SCD1\n"
     ]
    }
   ],
   "source": [
    "input_file = \"example_gene_regulation_3.txt\"\n",
    "\n",
    "raw_text = open(input_file).read()\n",
    "\n",
    "sentences = (cross_coref.resolve_pronoun(raw_text))\n",
    "\n",
    "doc = nlp(sentences)\n",
    "assert doc.has_annotation(\"SENT_START\")\n",
    "for sent in doc.sents:\n",
    "    #print(sent.text)\n",
    "    entities = model_infer(sent.text)\n",
    "    if len(entities) > 0:\n",
    "        has_verb = False\n",
    "        for v in verbs:\n",
    "            if v in sent.text:\n",
    "                has_verb = True\n",
    "        \n",
    "        if has_verb == True:\n",
    "\n",
    "            print (f'\"{sent.text.strip()}\"')\n",
    "\n",
    "            res = gpt3.extract_relation(\"gpt3_training_gene_regulation.txt\", sent.text.strip() + \"\\n\")\n",
    "            print(res)"
   ]
  },
  {
   "cell_type": "code",
   "execution_count": null,
   "metadata": {},
   "outputs": [],
   "source": []
  }
 ],
 "metadata": {
  "interpreter": {
   "hash": "2906174ea623f98bf0228f3e6b5461e1880ae5fa222a8c61228ae0439f209a69"
  },
  "kernelspec": {
   "display_name": "Python 3.9.7 ('base')",
   "language": "python",
   "name": "python3"
  },
  "language_info": {
   "codemirror_mode": {
    "name": "ipython",
    "version": 3
   },
   "file_extension": ".py",
   "mimetype": "text/x-python",
   "name": "python",
   "nbconvert_exporter": "python",
   "pygments_lexer": "ipython3",
   "version": "3.8.13"
  },
  "orig_nbformat": 4
 },
 "nbformat": 4,
 "nbformat_minor": 2
}
