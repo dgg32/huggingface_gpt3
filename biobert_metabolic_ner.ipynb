{
 "cells": [
  {
   "cell_type": "code",
   "execution_count": 10,
   "metadata": {},
   "outputs": [],
   "source": [
    "from transformers import AutoTokenizer, AutoModelForTokenClassification, pipeline\n",
    "import spacy\n",
    "import sys\n",
    "import gpt3\n"
   ]
  },
  {
   "cell_type": "code",
   "execution_count": 3,
   "metadata": {},
   "outputs": [],
   "source": [
    "\n",
    "tokenizer = AutoTokenizer.from_pretrained(\"alvaroalon2/biobert_chemical_ner\")\n",
    "\n",
    "model = AutoModelForTokenClassification.from_pretrained(\"alvaroalon2/biobert_chemical_ner\")\n",
    "\n",
    "model_infer = pipeline('ner',model=model,tokenizer=tokenizer)\n",
    "\n",
    "nlp = spacy.load(\"en_core_web_sm\")"
   ]
  },
  {
   "cell_type": "code",
   "execution_count": 13,
   "metadata": {},
   "outputs": [
    {
     "name": "stdout",
     "output_type": "stream",
     "text": [
      "\n",
      "Arginine is not deaminated.\n",
      "{\"arginine deamination\": \"negative\"}\n",
      "\n",
      "Can grow on mMRS agar supplemented with 5 % (w/v) NaCl, but not on mMRS agar supplemented with 6 % (w/v) NaCl.\n",
      "{\"mMRS agar + 5% NaCl\": \"positive\", \"mMRS agar + 6% NaCl\": \"negative\"}\n",
      "\n",
      "Negative for nitrate and nitrite reduction, indole production, urease production, pyruvate utilization, hydrolysis of hippurate, gas production from glucose and catalase production.\n",
      "{\"nitrate reduction\": \"negative\", \"nitrite reduction\": \"negative\", \"indole production\": \"negative\", \"urease production\": \"negative\", \"pyruvate utilization\": \"negative\", \"hippurate hydrolysis\": \"negative\", \"gas production from glucose\": \"negative\", \"catalase production\": \"negative\"}\n"
     ]
    }
   ],
   "source": [
    "input_file = \"example_metabolic.txt\"\n",
    "\n",
    "sentences = open(input_file).read()\n",
    "\n",
    "doc = nlp(sentences)\n",
    "assert doc.has_annotation(\"SENT_START\")\n",
    "for sent in doc.sents:\n",
    "    #print(sent.text)\n",
    "    entities = model_infer(sent.text)\n",
    "    if len(entities) > 0:\n",
    "        print (sent.text)\n",
    "        res = gpt3.extract_relation(\"gpt3_training_metabolic.txt\", sent.text.strip() + \"\\n\")\n",
    "        \n",
    "        print(res)\n"
   ]
  },
  {
   "cell_type": "code",
   "execution_count": null,
   "metadata": {},
   "outputs": [],
   "source": []
  }
 ],
 "metadata": {
  "interpreter": {
   "hash": "2906174ea623f98bf0228f3e6b5461e1880ae5fa222a8c61228ae0439f209a69"
  },
  "kernelspec": {
   "display_name": "Python 3.9.7 ('base')",
   "language": "python",
   "name": "python3"
  },
  "language_info": {
   "codemirror_mode": {
    "name": "ipython",
    "version": 3
   },
   "file_extension": ".py",
   "mimetype": "text/x-python",
   "name": "python",
   "nbconvert_exporter": "python",
   "pygments_lexer": "ipython3",
   "version": "3.8.13"
  },
  "orig_nbformat": 4
 },
 "nbformat": 4,
 "nbformat_minor": 2
}
