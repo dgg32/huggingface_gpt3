{
 "cells": [
  {
   "cell_type": "code",
   "execution_count": 2,
   "metadata": {},
   "outputs": [],
   "source": [
    "from transformers import AutoTokenizer, AutoModelForTokenClassification, pipeline\n",
    "import spacy\n",
    "import sys\n"
   ]
  },
  {
   "cell_type": "code",
   "execution_count": 3,
   "metadata": {},
   "outputs": [],
   "source": [
    "\n",
    "tokenizer = AutoTokenizer.from_pretrained(\"alvaroalon2/biobert_chemical_ner\")\n",
    "\n",
    "model = AutoModelForTokenClassification.from_pretrained(\"alvaroalon2/biobert_chemical_ner\")\n",
    "\n",
    "model_infer = pipeline('ner',model=model,tokenizer=tokenizer)\n",
    "\n",
    "nlp = spacy.load(\"en_core_web_sm\")"
   ]
  },
  {
   "cell_type": "code",
   "execution_count": 4,
   "metadata": {},
   "outputs": [],
   "source": [
    "input_file = \"example_metabolic.txt\"\n",
    "\n",
    "sentences = open(input_file).read()"
   ]
  },
  {
   "cell_type": "code",
   "execution_count": 6,
   "metadata": {},
   "outputs": [
    {
     "name": "stdout",
     "output_type": "stream",
     "text": [
      "Can grow on mMRS agar supplemented with 5 % (w/v) NaCl, but not on mMRS agar supplemented with 6 % (w/v) NaCl.\n",
      "Negative for nitrate and nitrite reduction, indole production, urease production, pyruvate utilization, hydrolysis of hippurate, gas production from glucose and catalase production.\n",
      "Positive for tolerance to tellurite and Voges–Proskauer reaction.\n",
      "Arginine is not deaminated.\n",
      "Both isomers of lactic acid are produced (2 % d-lactate and 98 % l-lactate).\n",
      "Acid is produced from d-glucose, d-fructose, d-mannose, d-mannitol, N-acetylglucosamine, cellobiose and maltose.\n",
      "Acid is not produced from glycerol, erythritol, d-arabinose, l-arabinose, d-ribose, d-xylose, l-xylose, d-adonitol, methyl β-d-xylopyranoside, l-sorbose, l-rhamnose, dulcitol, inositol, d-sorbitol, methyl α-d-mannopyranoside, methyl α-d-glucopyranoside, amygdalin, arbutin, salicin, lactose, melibiose, sucrose, trehalose, inulin, melezitose, raffinose, starch, glycogen, xylitol, gentiobiose, turanose, d-lyxose, d-tagatose, d-fucose, l-fucose, d-arabitol, l-arabitol, gluconate, 2-keto-gluconate or 5-keto-gluconate.\n",
      "Aesculin is not hydrolysed.\n",
      "Cells do not contain meso-diaminopimelic acid in their cell-wall peptidoglycan, and the diagnostic diamino acid is lysine.\n",
      "H2S production and acid production from d-galactose are strain-dependent.\n",
      "C16 : 0, C18 : 1  ω9c, sum of C19 : 1  ω6c/C19 : 0 cyclo ω10c and sum of C18 : 1  ω6c/C18 : 1  ω7c are major fatty acids.\n"
     ]
    }
   ],
   "source": [
    "doc = nlp(sentences)\n",
    "assert doc.has_annotation(\"SENT_START\")\n",
    "for sent in doc.sents:\n",
    "    #print(sent.text)\n",
    "    entities = model_infer(sent.text)\n",
    "    if len(entities) > 0:\n",
    "        print (sent.text)\n",
    "    \n"
   ]
  },
  {
   "cell_type": "code",
   "execution_count": 12,
   "metadata": {},
   "outputs": [
    {
     "data": {
      "text/plain": [
       "'ni'"
      ]
     },
     "execution_count": 12,
     "metadata": {},
     "output_type": "execute_result"
    }
   ],
   "source": []
  },
  {
   "cell_type": "code",
   "execution_count": null,
   "metadata": {},
   "outputs": [],
   "source": []
  }
 ],
 "metadata": {
  "interpreter": {
   "hash": "2906174ea623f98bf0228f3e6b5461e1880ae5fa222a8c61228ae0439f209a69"
  },
  "kernelspec": {
   "display_name": "Python 3.9.7 ('base')",
   "language": "python",
   "name": "python3"
  },
  "language_info": {
   "codemirror_mode": {
    "name": "ipython",
    "version": 3
   },
   "file_extension": ".py",
   "mimetype": "text/x-python",
   "name": "python",
   "nbconvert_exporter": "python",
   "pygments_lexer": "ipython3",
   "version": "3.9.12"
  },
  "orig_nbformat": 4
 },
 "nbformat": 4,
 "nbformat_minor": 2
}
