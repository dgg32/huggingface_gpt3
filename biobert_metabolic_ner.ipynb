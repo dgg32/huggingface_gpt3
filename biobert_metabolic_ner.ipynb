{
 "cells": [
  {
   "cell_type": "code",
   "execution_count": 1,
   "metadata": {},
   "outputs": [
    {
     "name": "stderr",
     "output_type": "stream",
     "text": [
      "[nltk_data] Downloading package omw-1.4 to\n",
      "[nltk_data]     C:\\Users\\dgg32\\AppData\\Roaming\\nltk_data...\n",
      "[nltk_data]   Package omw-1.4 is already up-to-date!\n",
      "error loading _jsonnet (this is expected on Windows), treating C:\\Users\\dgg32\\AppData\\Local\\Temp\\tmplljki0to\\config.json as plain json\n",
      "Some weights of the model checkpoint at microsoft/infoxlm-base were not used when initializing XLMRobertaModel: ['lm_head.bias', 'lm_head.layer_norm.bias', 'lm_head.dense.bias', 'lm_head.dense.weight', 'lm_head.layer_norm.weight', 'lm_head.decoder.weight']\n",
      "- This IS expected if you are initializing XLMRobertaModel from the checkpoint of a model trained on another task or with another architecture (e.g. initializing a BertForSequenceClassification model from a BertForPreTraining model).\n",
      "- This IS NOT expected if you are initializing XLMRobertaModel from the checkpoint of a model that you expect to be exactly identical (initializing a BertForSequenceClassification model from a BertForSequenceClassification model).\n"
     ]
    }
   ],
   "source": [
    "from transformers import AutoTokenizer, AutoModelForTokenClassification, pipeline\n",
    "import spacy\n",
    "import sys\n",
    "import gpt3\n",
    "import cross_coref"
   ]
  },
  {
   "cell_type": "code",
   "execution_count": 2,
   "metadata": {},
   "outputs": [],
   "source": [
    "\n",
    "tokenizer = AutoTokenizer.from_pretrained(\"alvaroalon2/biobert_chemical_ner\")\n",
    "\n",
    "model = AutoModelForTokenClassification.from_pretrained(\"alvaroalon2/biobert_chemical_ner\")\n",
    "\n",
    "model_infer = pipeline('ner',model=model,tokenizer=tokenizer)\n",
    "\n",
    "nlp = spacy.load(\"en_core_web_sm\")"
   ]
  },
  {
   "cell_type": "code",
   "execution_count": 3,
   "metadata": {},
   "outputs": [
    {
     "name": "stdout",
     "output_type": "stream",
     "text": [
      "\"Arginine is not deaminated.\"\n",
      "{\"arginine deamination\": \"negative\"}\n",
      "\"Can grow on mMRS agar supplemented with 5 % (w/v) NaCl, but not on mMRS agar supplemented with 6 % (w/v) NaCl.\"\n",
      "{\"5% NaCl\":\"positive\", \"6% NaCl\":\"negative\"}\n",
      "\"Negative for nitrate and nitrite reduction, indole production, urease production, pyruvate utilization, hydrolysis of hippurate, gas production from glucose and catalase production.\"\n",
      "{\"nitrate reduction\": \"negative\", \"nitrite reduction\": \"negative\", \"indole production\": \"negative\", \"urease production\": \"negative\", \"pyruvate utilization\": \"negative\", \"hippurate hydrolysis\": \"negative\", \"gas production from glucose\": \"negative\", \"catalase production\": \"negative\"}\n",
      "\"The DNA G+C content of The type strain is 50.9 mol%.\"\n",
      "The type strain is 50.9 mol%\n"
     ]
    }
   ],
   "source": [
    "input_file = \"example_metabolic.txt\"\n",
    "\n",
    "raw_text = open(input_file).read()\n",
    "\n",
    "sentences = (cross_coref.resolve_pronoun(raw_text))\n",
    "\n",
    "doc = nlp(sentences)\n",
    "assert doc.has_annotation(\"SENT_START\")\n",
    "for sent in doc.sents:\n",
    "    #print(sent.text)\n",
    "    entities = model_infer(sent.text)\n",
    "    if len(entities) > 0:\n",
    "        print (f'\"{sent.text.strip()}\"')\n",
    "        res = gpt3.extract_relation(\"gpt3_training_metabolic.txt\", sent.text.strip() + \"\\n\")\n",
    "        \n",
    "        print(res)\n"
   ]
  },
  {
   "cell_type": "code",
   "execution_count": 4,
   "metadata": {},
   "outputs": [],
   "source": [
    "sentences = \"Results showed that luciferase activity was reduced significantly (P<0.05) in BmN cells co-transfected with pcDNA3.0 [ie1-egfp-pri-bmo-miR-275-SV40] and pGL3.0 [A3-luc-Ser-2-3'UTR-SV40], suggesting that bmo-miR-275 can down-regulate the expression of BmSer-2 in vitro.\""
   ]
  },
  {
   "cell_type": "code",
   "execution_count": 5,
   "metadata": {},
   "outputs": [
    {
     "name": "stdout",
     "output_type": "stream",
     "text": [
      "+ Results showed that luciferase activity was reduced significantly (P<0.05) in BmN cells co-transfected with pcDNA3.0 [ie1-egfp-pri-bmo-miR-275-SV40] and pGL3.0 [A3-luc-Ser-2-3'UTR-SV40], suggesting that bmo-miR-275 can down-regulate the expression of BmSer-2 in vitro.\n"
     ]
    }
   ],
   "source": [
    "doc = nlp(sentences)\n",
    "assert doc.has_annotation(\"SENT_START\")\n",
    "for sent in doc.sents:\n",
    "    print(\"+\", sent.text)\n",
    "    # entities = model_infer(sent.text)\n",
    "    # if len(entities) > 0:\n",
    "    #     print (sent.text)\n",
    "        "
   ]
  },
  {
   "cell_type": "code",
   "execution_count": 15,
   "metadata": {},
   "outputs": [
    {
     "name": "stdout",
     "output_type": "stream",
     "text": [
      "\"Optimum growth is at 28 °C, 1.5 % (w/v) NaCl and pH 7.0.\"\n",
      "{\"optimum growth temperature\": \"28 °C\", \"optimum growth NaCl concentration\": \"1.5%\", \"optimum growth pH\": \"7.0\"}\n",
      "\"Acid is produced from d-arabinose, cellobiose, d-fucose, d-galactose, d-glucose, lactose, maltose, d-mannose, melibiose, d-ribose, d-lyxose, d-xylose, gentiobiose, l-arabinose and l-rhamnose.\"\n",
      "{\"d-arabinose acid production\": \"positive\", \"cellobiose acid production\": \"positive\", \"d-fucose acid production\": \"positive\", \"d-galactose acid production\": \"positive\", \"d-glucose acid production\": \"positive\", \"lactose acid production\": \"positive\", \"maltose acid production\": \"positive\", \"d-mannose acid production\": \"positive\", \"melibiose acid production\": \"positive\", \"d-ribose acid production\": \"positive\", \"d-lyxose acid production\": \"positive\", \"d-xylose acid production\": \"positive\", \"gentiobiose acid production\": \"positive\", \"l-arabinose acid production\": \"positive\", \"l-rhamnose acid production\": \"positive\"}\n",
      "\"Nitrate is not reduced.\"\n",
      "{\"nitrate reduction\": \"negative\"}\n",
      "\"Strains assimilate acetate, β-alanine, ethanol and l-lactate but not l-arginine, citrate, gentisate, d-glucose, l-glutamate, l-histidine, l-leucine, l-phenylalanine or trigonelline.\"\n",
      "{\"acetate assimilation\": \"positive\", \"β-alanine assimilation\": \"positive\", \"ethanol assimilation\": \"positive\", \"l-lactate assimilation\": \"positive\", \"l-arginine assimilation\": \"negative\", \"citrate assimilation\": \"negative\", \"gentisate assimilation\": \"negative\", \"d-glucose assimilation\": \"negative\", \"l-glutamate assimilation\": \"negative\", \"l-histidine assimilation\": \"negative\", \"l-leucine assimilation\": \"negative\", \"l-phenylalanine assimilation\": \"negative\", \"trigonelline assimilation\": \"negative\"}\n",
      "\"Hydrolysis reactions of gelatin and urea are negative.\"\n",
      "{\"gelatin hydrolysis\": \"negative\", \"urea hydrolysis\": \"negative\"}\n",
      "\"The major fatty acids are C18 : 1  ω9c, C16 : 0 and summed feature 3 (C16 : 1  ω7c/C16 : 1  ω6c).\"\n",
      "{\"major fatty acids\": [\"C18 : 1  ω9c\", \"C16 : 0\", \"summed feature 3 (C16 : 1  ω7c/C16 : 1  ω6c)\"]}\n",
      "\"The main polar lipids are DPG, PE and PG.\"\n",
      "{\"polar lipids\": \"DPG, PE, PG\"}\n",
      "\"The predominant respiratory quinone is Q-9.\"\n",
      "{\"predominant respiratory quinone\":\"Q-9\"}\n"
     ]
    }
   ],
   "source": [
    "input_file = \"example_metabolic_2.txt\"\n",
    "\n",
    "raw_text = open(input_file).read()\n",
    "\n",
    "sentences = (cross_coref.resolve_pronoun(raw_text))\n",
    "\n",
    "doc = nlp(sentences)\n",
    "assert doc.has_annotation(\"SENT_START\")\n",
    "for sent in doc.sents:\n",
    "    #print(sent.text)\n",
    "    entities = model_infer(sent.text)\n",
    "    if len(entities) > 0:\n",
    "        print (f'\"{sent.text.strip()}\"')\n",
    "        res = gpt3.extract_relation(\"gpt3_training_metabolic.txt\", sent.text.strip() + \"\\n\")\n",
    "        \n",
    "        print(res)\n"
   ]
  },
  {
   "cell_type": "code",
   "execution_count": 14,
   "metadata": {},
   "outputs": [
    {
     "name": "stdout",
     "output_type": "stream",
     "text": [
      "\"Optimum growth is at 28 °C, 1.5 % (w/v) NaCl and pH 7.0.\"\n",
      "{\"optimum growth temperature\": \"28 °C\", \"optimum growth NaCl concentration\": \"1.5% (w/v)\", \"optimum growth pH\": \"7.0\"}\n"
     ]
    }
   ],
   "source": [
    "input_file = \"example_metabolic_3.txt\"\n",
    "\n",
    "raw_text = open(input_file).read()\n",
    "sentences = (cross_coref.resolve_pronoun(raw_text))\n",
    "\n",
    "doc = nlp(sentences)\n",
    "assert doc.has_annotation(\"SENT_START\")\n",
    "for sent in doc.sents:\n",
    "    #print(sent.text)\n",
    "    entities = model_infer(sent.text)\n",
    "    if len(entities) > 0:\n",
    "        print (f'\"{sent.text.strip()}\"')\n",
    "        res = gpt3.extract_relation(\"gpt3_training_metabolic.txt\", sent.text.strip() + \"\\n\")\n",
    "        \n",
    "        print(res)"
   ]
  },
  {
   "cell_type": "code",
   "execution_count": null,
   "metadata": {},
   "outputs": [],
   "source": []
  }
 ],
 "metadata": {
  "interpreter": {
   "hash": "2906174ea623f98bf0228f3e6b5461e1880ae5fa222a8c61228ae0439f209a69"
  },
  "kernelspec": {
   "display_name": "Python 3.9.7 ('base')",
   "language": "python",
   "name": "python3"
  },
  "language_info": {
   "codemirror_mode": {
    "name": "ipython",
    "version": 3
   },
   "file_extension": ".py",
   "mimetype": "text/x-python",
   "name": "python",
   "nbconvert_exporter": "python",
   "pygments_lexer": "ipython3",
   "version": "3.8.13"
  },
  "orig_nbformat": 4
 },
 "nbformat": 4,
 "nbformat_minor": 2
}
